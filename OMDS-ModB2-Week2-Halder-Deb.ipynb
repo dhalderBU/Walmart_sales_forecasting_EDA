{
 "cells": [
  {
   "cell_type": "markdown",
   "id": "5190b54c-d49c-4d6f-80cc-22555336a9cd",
   "metadata": {},
   "source": [
    "# Week 2 - Preprocessing, part 2\n",
    "\n",
    "# 1. Lesson: None"
   ]
  },
  {
   "cell_type": "markdown",
   "id": "47c4e5ff-b05f-4ef2-96f1-49dcb5beb158",
   "metadata": {},
   "source": "# 2. Weekly graph question"
  },
  {
   "cell_type": "markdown",
   "id": "aad37e29-6e84-41fa-886d-abc1312213ab",
   "metadata": {},
   "source": [
    "The Storytelling With Data book mentions planning on a \"Who, What, and How\" for your data story.  Write down a possible Who, What, and How for your data, using the ideas in the book."
   ]
  },
  {
   "metadata": {},
   "cell_type": "markdown",
   "source": [
    "### Who \n",
    "\n",
    "The buyers in the retail company \"XYZ  Retail Co\", the marketing team and the management of the company who needs to strategize on promotions and merchandising\n",
    "\n",
    "### What \n",
    "\n",
    "what are the more important time of the year that people spend money so they can focus on deals and offers on those days along with good merchandise. How much impact does holidays have on sales and which departments are the high sales departments. \n",
    "\n",
    "\n",
    "\n",
    "### How\n",
    "\n",
    "We will analyze Walmart store sales data for the period 02/05/2010 to 10/26/2012  from 45 stores and 81 departments (of the 45 stores) which are available in public domain(kaggle). We will analyze overall sales pattern for multiple years of data available and see if there is correlation of sales to holidays. We will also look into economic indicators , gas prices and temperature to understand the sales patterns. We could arrive at a ML model which we can then use to forecast sales and plan for merchandise and promotions( including markdown). \n",
    "\n"
   ],
   "id": "ab985fc33697a838"
  },
  {
   "metadata": {},
   "cell_type": "markdown",
   "source": [
    "### Executive Summary of findings\n",
    "Base don our analysis of the Walmart datsset  we see very high degree of correlation between holidays and sales. We observed that the sales are highest during the Thanksgiving week and just before Christmas. During other major holidays(Easter and July 4th) there is a bump in sales(15%). There other factors including mark down and economic indicators that could also impact sales. Inorder to capitalize on this spending pattern the company should target these weeks aggressively with good deals and offers.\n",
    "\n",
    "The ipython notebook is also available in this url : "
   ],
   "id": "d28dd16a74219bf"
  },
  {
   "cell_type": "markdown",
   "id": "898eb327-aefd-4ac0-b95a-92b616a2181b",
   "metadata": {},
   "source": [
    "# 3. Homework - work with your own data"
   ]
  },
  {
   "cell_type": "code",
   "id": "fe925521-979f-4983-8d85-8db8d1316e99",
   "metadata": {
    "ExecuteTime": {
     "end_time": "2025-02-16T22:06:57.207177Z",
     "start_time": "2025-02-16T22:06:57.190220Z"
    }
   },
   "source": [
    "import pandas as pd\n",
    "import numpy as np\n",
    "from datetime import datetime, timedelta\n"
   ],
   "outputs": [],
   "execution_count": 52
  },
  {
   "cell_type": "markdown",
   "id": "14836788-b235-4cd4-b94d-5f749c6141a8",
   "metadata": {},
   "source": [
    "This week, you will do the same types of exercises as last week, but you should use your own datasets that you found last semester.\n",
    "\n",
    "### Here are some types of analysis you can do  Use Google, documentation, and ChatGPT to help you:\n",
    "\n",
    "- Summarize the datasets using info() and describe()\n",
    "\n",
    "- Are there any duplicate rows?\n",
    "\n",
    "- Are there any duplicate values in a given column (when this would be inappropriate?)\n",
    "\n",
    "- What are the mean, median, and mode of each column?\n",
    "\n",
    "- Are there any missing or null values?\n",
    "\n",
    "    - Do you want to fill in the missing value with a mean value?  A value of your choice?  Remove that row?\n",
    "\n",
    "- Identify any other inconsistent data (e.g. someone seems to be taking an action before they are born.)\n",
    "\n",
    "- Encode any categorical variables (e.g. with one-hot encoding.)\n",
    "\n",
    "### Conclusions:\n",
    "\n",
    "- Are the data usable?  If not, find some new data!\n",
    "\n",
    "- Do you need to modify or correct the data in some way?\n",
    "\n",
    "- Is there any class imbalance?  (Categories that have many more items than other categories)."
   ]
  },
  {
   "metadata": {},
   "cell_type": "markdown",
   "source": [
    "@misc{walmart-sales-forecasting,\n",
    "    author = {Jannes Klaas},\n",
    "    title = {Walmart Sales Forecasting},\n",
    "    year = {2018},\n",
    "    howpublished = {\\url{https://kaggle.com/competitions/walmart-sales-forecasting}},\n",
    "    note = {Kaggle}\n",
    "}"
   ],
   "id": "6a627ee1d27d918e"
  },
  {
   "metadata": {},
   "cell_type": "markdown",
   "source": [
    "###  Walmart Dataset \n",
    "This analysis uses the walmart-sales-forecasting dataset ( https://kaggle.com/competitions/walmart-sales-forecasting), published by author Jannes Klaas in the year 2018. The dataset contains sales data from walmart store sales for 45 stores and 81 departments for the period 02/05/2010 to 10/26/2012\n",
    "\n",
    "### Dataset Description \n",
    "#### The Data \n",
    "\n",
    "\n",
    "The Dataset provides historical sales data for 45 Walmart stores located in different regions. Each store contains a number of department.\n",
    "\n",
    "In addition, Walmart runs several promotional markdown events throughout the year. These markdowns precede prominent holidays, the four largest of which are the Super Bowl, Labor Day, Thanksgiving, and Christmas. Part of the challenge presented by this competition is modeling the effects of markdowns on these holiday weeks in the absence of complete/ideal historical data.\n",
    "\n",
    "\n",
    "#### train.csv \n",
    "\n",
    "\n",
    "282451 sales records for training \n",
    "\n",
    "\n",
    "#### test.csv\n",
    "\n",
    "\n",
    "139119 records missing Weekly_Sales\n",
    "\n",
    "\n",
    "\n",
    "#### Data fields\n",
    "\n",
    "\n",
    "* Store - the store number (categorical data)\n",
    "\n",
    "\n",
    "* Dept - the department number (categorical data)\n",
    "\n",
    "\n",
    "* Date - the date of the week when data was collected\n",
    "\n",
    "\n",
    "* Weekly_Sales - sales for the given department in the given store\n",
    "\n",
    "\n",
    "* Temperature - average temperature in the region\n",
    "\n",
    "\n",
    "* Fuel_Price - cost of fuel in the region\n",
    "\n",
    "\n",
    "* MarkDown1-5 - anonymized data related to promotional markdowns that Walmart is running. MarkDown data is only available after Nov 2011, and is not available for all stores all the time. Any missing value is marked with an NA.\n",
    "\n",
    "\n",
    "* CPI - the consumer price index\n",
    "\n",
    "\n",
    "* Unemployment - the unemployment rate\n",
    "\n",
    "\n",
    "* IsHoliday - whether the week is a special holiday week\n",
    "\n",
    "\n",
    "* Type: An anonymized description on which type of store it is (categorical)\n",
    "\n"
   ],
   "id": "222873ed4ade0327"
  },
  {
   "metadata": {},
   "cell_type": "markdown",
   "source": [
    "The Zip files with all the data are downloaded and analyzed. There are three files in the dataset which can be analyzed :\n",
    "\n",
    "a) train.csv - Weekly sales data used for training and testing later\n",
    "\n",
    "b) stores.csv - Stores datta containing stre information ie store number, type and size\n",
    "\n",
    "c) features.csv - Features data containing store, date, markdown, fuel price, temperature and CPI and unemployment rate etc."
   ],
   "id": "2caf23b3e7da0eee"
  },
  {
   "metadata": {
    "ExecuteTime": {
     "end_time": "2025-02-16T22:06:57.564936Z",
     "start_time": "2025-02-16T22:06:57.389720Z"
    }
   },
   "cell_type": "code",
   "source": [
    "#open each of the files with appropriate naming of the dataset \n",
    "\n",
    "sales_df = pd.read_csv('train.csv')  #Weekly sales data used for training and testing later\n",
    "stores_df = pd.read_csv('stores.csv') # Stores data\n",
    "features_df = pd.read_csv('features.csv')"
   ],
   "id": "78d0975adf462cf1",
   "outputs": [],
   "execution_count": 53
  },
  {
   "metadata": {},
   "cell_type": "markdown",
   "source": "## Each of the three dataframes needs to be looked into to check what are the columns and what kinds of data are there before we strategize on the analysis and what we need to do with the data.",
   "id": "e74b906f47ced903"
  },
  {
   "metadata": {},
   "cell_type": "markdown",
   "source": [
    "### Analyze Sales data(sales_df)\n",
    "\n",
    "####     Observations (summarized in this section but analyzed in detail below):\n",
    "\n",
    "Rows of data = 421570 \n",
    "Date column is in object dtype(most likely string)  needs to be converted to datetime dtype , IsHoliday is in bool type which will need to be one hot coded later on\n",
    "\n",
    "Weekly sales has -ve value as minimum , we need to look into it to see if for a particular dept the value was -ve which is possible but if we see that for a store its -ve then there could be something wrong with the data but any depart for a particular store could have -ve value due to net saes being -ve as return value was higher than sales value. For the overall store though sales will be positive. The mean weekly sales is $ \\$149.72 million$.\n",
    " The median weekly sales  is  $ \\$138.25 miillion$\n",
    "\n",
    "The analysis show the data is clean for the store sales and -ve values are valid values and those are specific to departments and not the store. \n",
    "\n",
    "The date Range of the dataset aligns with the date range stated by the data provider i.e between 02/054/2010 and 10/26/2013\n",
    "\n",
    "The Store column has 45 unique categorical values(nominal) , Dept has 81 unique categorical(nominal) values.\n",
    "\n",
    "#### the above point(number of categorical values in the two columns is important from the consideration of when to do one hot encoding so as not to increase the columns due to the effect of onehot encoding\n",
    "\n",
    "We found no duplicate rows or rows with NA or null values. The data is clean.\n"
   ],
   "id": "d4d7132d96a777f"
  },
  {
   "metadata": {
    "ExecuteTime": {
     "end_time": "2025-02-16T22:06:57.634497Z",
     "start_time": "2025-02-16T22:06:57.602489Z"
    }
   },
   "cell_type": "code",
   "source": "sales_df.info()",
   "id": "9c6052e81f551d67",
   "outputs": [
    {
     "name": "stdout",
     "output_type": "stream",
     "text": [
      "<class 'pandas.core.frame.DataFrame'>\n",
      "RangeIndex: 421570 entries, 0 to 421569\n",
      "Data columns (total 5 columns):\n",
      " #   Column        Non-Null Count   Dtype  \n",
      "---  ------        --------------   -----  \n",
      " 0   Store         421570 non-null  int64  \n",
      " 1   Dept          421570 non-null  int64  \n",
      " 2   Date          421570 non-null  object \n",
      " 3   Weekly_Sales  421570 non-null  float64\n",
      " 4   IsHoliday     421570 non-null  bool   \n",
      "dtypes: bool(1), float64(1), int64(2), object(1)\n",
      "memory usage: 13.3+ MB\n"
     ]
    }
   ],
   "execution_count": 54
  },
  {
   "metadata": {},
   "cell_type": "markdown",
   "source": "",
   "id": "670d1ed566be0968"
  },
  {
   "metadata": {
    "ExecuteTime": {
     "end_time": "2025-02-16T22:06:57.707654Z",
     "start_time": "2025-02-16T22:06:57.672992Z"
    }
   },
   "cell_type": "code",
   "source": "sales_df.describe([1/3,2/3])",
   "id": "9f73db7d986e8594",
   "outputs": [
    {
     "data": {
      "text/plain": [
       "               Store           Dept   Weekly_Sales\n",
       "count  421570.000000  421570.000000  421570.000000\n",
       "mean       22.200546      44.260317   15981.258123\n",
       "std        12.785297      30.492054   22711.183519\n",
       "min         1.000000       1.000000   -4988.940000\n",
       "33.3%      15.000000      24.000000    3521.780000\n",
       "50%        22.000000      37.000000    7612.030000\n",
       "66.7%      29.000000      56.000000   14599.760000\n",
       "max        45.000000      99.000000  693099.360000"
      ],
      "text/html": [
       "<div>\n",
       "<style scoped>\n",
       "    .dataframe tbody tr th:only-of-type {\n",
       "        vertical-align: middle;\n",
       "    }\n",
       "\n",
       "    .dataframe tbody tr th {\n",
       "        vertical-align: top;\n",
       "    }\n",
       "\n",
       "    .dataframe thead th {\n",
       "        text-align: right;\n",
       "    }\n",
       "</style>\n",
       "<table border=\"1\" class=\"dataframe\">\n",
       "  <thead>\n",
       "    <tr style=\"text-align: right;\">\n",
       "      <th></th>\n",
       "      <th>Store</th>\n",
       "      <th>Dept</th>\n",
       "      <th>Weekly_Sales</th>\n",
       "    </tr>\n",
       "  </thead>\n",
       "  <tbody>\n",
       "    <tr>\n",
       "      <th>count</th>\n",
       "      <td>421570.000000</td>\n",
       "      <td>421570.000000</td>\n",
       "      <td>421570.000000</td>\n",
       "    </tr>\n",
       "    <tr>\n",
       "      <th>mean</th>\n",
       "      <td>22.200546</td>\n",
       "      <td>44.260317</td>\n",
       "      <td>15981.258123</td>\n",
       "    </tr>\n",
       "    <tr>\n",
       "      <th>std</th>\n",
       "      <td>12.785297</td>\n",
       "      <td>30.492054</td>\n",
       "      <td>22711.183519</td>\n",
       "    </tr>\n",
       "    <tr>\n",
       "      <th>min</th>\n",
       "      <td>1.000000</td>\n",
       "      <td>1.000000</td>\n",
       "      <td>-4988.940000</td>\n",
       "    </tr>\n",
       "    <tr>\n",
       "      <th>33.3%</th>\n",
       "      <td>15.000000</td>\n",
       "      <td>24.000000</td>\n",
       "      <td>3521.780000</td>\n",
       "    </tr>\n",
       "    <tr>\n",
       "      <th>50%</th>\n",
       "      <td>22.000000</td>\n",
       "      <td>37.000000</td>\n",
       "      <td>7612.030000</td>\n",
       "    </tr>\n",
       "    <tr>\n",
       "      <th>66.7%</th>\n",
       "      <td>29.000000</td>\n",
       "      <td>56.000000</td>\n",
       "      <td>14599.760000</td>\n",
       "    </tr>\n",
       "    <tr>\n",
       "      <th>max</th>\n",
       "      <td>45.000000</td>\n",
       "      <td>99.000000</td>\n",
       "      <td>693099.360000</td>\n",
       "    </tr>\n",
       "  </tbody>\n",
       "</table>\n",
       "</div>"
      ]
     },
     "execution_count": 55,
     "metadata": {},
     "output_type": "execute_result"
    }
   ],
   "execution_count": 55
  },
  {
   "metadata": {},
   "cell_type": "markdown",
   "source": [
    "There are rows with -ve sales  which shows that there are departments for stored ID whose weekly sales was -ve. This is possible lets then check if the overall sales for that store was -ve or not  , if not then we can consider to keep these values\n",
    " "
   ],
   "id": "49675494828cd4d2"
  },
  {
   "metadata": {
    "ExecuteTime": {
     "end_time": "2025-02-16T22:06:57.805510Z",
     "start_time": "2025-02-16T22:06:57.793415Z"
    }
   },
   "cell_type": "code",
   "source": "sales_df[sales_df[\"Weekly_Sales\"]<0]",
   "id": "50ba635b3c85ae81",
   "outputs": [
    {
     "data": {
      "text/plain": [
       "        Store  Dept        Date  Weekly_Sales  IsHoliday\n",
       "846         1     6  2012-08-10       -139.65      False\n",
       "2384        1    18  2012-05-04         -1.27      False\n",
       "6048        1    47  2010-02-19       -863.00      False\n",
       "6049        1    47  2010-03-12       -698.00      False\n",
       "6051        1    47  2010-10-08        -58.00      False\n",
       "...       ...   ...         ...           ...        ...\n",
       "419597     45    80  2010-02-12         -0.43       True\n",
       "419598     45    80  2010-02-19         -0.27      False\n",
       "419603     45    80  2010-04-16         -1.61      False\n",
       "419614     45    80  2010-07-02         -0.27      False\n",
       "419640     45    80  2011-02-11         -0.24       True\n",
       "\n",
       "[1285 rows x 5 columns]"
      ],
      "text/html": [
       "<div>\n",
       "<style scoped>\n",
       "    .dataframe tbody tr th:only-of-type {\n",
       "        vertical-align: middle;\n",
       "    }\n",
       "\n",
       "    .dataframe tbody tr th {\n",
       "        vertical-align: top;\n",
       "    }\n",
       "\n",
       "    .dataframe thead th {\n",
       "        text-align: right;\n",
       "    }\n",
       "</style>\n",
       "<table border=\"1\" class=\"dataframe\">\n",
       "  <thead>\n",
       "    <tr style=\"text-align: right;\">\n",
       "      <th></th>\n",
       "      <th>Store</th>\n",
       "      <th>Dept</th>\n",
       "      <th>Date</th>\n",
       "      <th>Weekly_Sales</th>\n",
       "      <th>IsHoliday</th>\n",
       "    </tr>\n",
       "  </thead>\n",
       "  <tbody>\n",
       "    <tr>\n",
       "      <th>846</th>\n",
       "      <td>1</td>\n",
       "      <td>6</td>\n",
       "      <td>2012-08-10</td>\n",
       "      <td>-139.65</td>\n",
       "      <td>False</td>\n",
       "    </tr>\n",
       "    <tr>\n",
       "      <th>2384</th>\n",
       "      <td>1</td>\n",
       "      <td>18</td>\n",
       "      <td>2012-05-04</td>\n",
       "      <td>-1.27</td>\n",
       "      <td>False</td>\n",
       "    </tr>\n",
       "    <tr>\n",
       "      <th>6048</th>\n",
       "      <td>1</td>\n",
       "      <td>47</td>\n",
       "      <td>2010-02-19</td>\n",
       "      <td>-863.00</td>\n",
       "      <td>False</td>\n",
       "    </tr>\n",
       "    <tr>\n",
       "      <th>6049</th>\n",
       "      <td>1</td>\n",
       "      <td>47</td>\n",
       "      <td>2010-03-12</td>\n",
       "      <td>-698.00</td>\n",
       "      <td>False</td>\n",
       "    </tr>\n",
       "    <tr>\n",
       "      <th>6051</th>\n",
       "      <td>1</td>\n",
       "      <td>47</td>\n",
       "      <td>2010-10-08</td>\n",
       "      <td>-58.00</td>\n",
       "      <td>False</td>\n",
       "    </tr>\n",
       "    <tr>\n",
       "      <th>...</th>\n",
       "      <td>...</td>\n",
       "      <td>...</td>\n",
       "      <td>...</td>\n",
       "      <td>...</td>\n",
       "      <td>...</td>\n",
       "    </tr>\n",
       "    <tr>\n",
       "      <th>419597</th>\n",
       "      <td>45</td>\n",
       "      <td>80</td>\n",
       "      <td>2010-02-12</td>\n",
       "      <td>-0.43</td>\n",
       "      <td>True</td>\n",
       "    </tr>\n",
       "    <tr>\n",
       "      <th>419598</th>\n",
       "      <td>45</td>\n",
       "      <td>80</td>\n",
       "      <td>2010-02-19</td>\n",
       "      <td>-0.27</td>\n",
       "      <td>False</td>\n",
       "    </tr>\n",
       "    <tr>\n",
       "      <th>419603</th>\n",
       "      <td>45</td>\n",
       "      <td>80</td>\n",
       "      <td>2010-04-16</td>\n",
       "      <td>-1.61</td>\n",
       "      <td>False</td>\n",
       "    </tr>\n",
       "    <tr>\n",
       "      <th>419614</th>\n",
       "      <td>45</td>\n",
       "      <td>80</td>\n",
       "      <td>2010-07-02</td>\n",
       "      <td>-0.27</td>\n",
       "      <td>False</td>\n",
       "    </tr>\n",
       "    <tr>\n",
       "      <th>419640</th>\n",
       "      <td>45</td>\n",
       "      <td>80</td>\n",
       "      <td>2011-02-11</td>\n",
       "      <td>-0.24</td>\n",
       "      <td>True</td>\n",
       "    </tr>\n",
       "  </tbody>\n",
       "</table>\n",
       "<p>1285 rows × 5 columns</p>\n",
       "</div>"
      ]
     },
     "execution_count": 56,
     "metadata": {},
     "output_type": "execute_result"
    }
   ],
   "execution_count": 56
  },
  {
   "metadata": {},
   "cell_type": "markdown",
   "source": "Lets check if there are stores with -ve sales which needs to be dropped. If there are no weekly sales in -ve teretory then the values can be kept as is",
   "id": "e604e96351341709"
  },
  {
   "metadata": {
    "ExecuteTime": {
     "end_time": "2025-02-16T22:06:57.922318Z",
     "start_time": "2025-02-16T22:06:57.901450Z"
    }
   },
   "cell_type": "code",
   "source": "total_weekly_sales_bystore = sales_df.groupby('Store')['Weekly_Sales'].sum()",
   "id": "1e6adebe6cb70c9d",
   "outputs": [],
   "execution_count": 57
  },
  {
   "metadata": {
    "ExecuteTime": {
     "end_time": "2025-02-16T22:06:58.085787Z",
     "start_time": "2025-02-16T22:06:58.070892Z"
    }
   },
   "cell_type": "code",
   "source": "total_weekly_sales_bystore.sort_values(ascending=True)",
   "id": "35abf3c57fec4afd",
   "outputs": [
    {
     "data": {
      "text/plain": [
       "Store\n",
       "33    3.716022e+07\n",
       "44    4.329309e+07\n",
       "5     4.547569e+07\n",
       "36    5.341221e+07\n",
       "38    5.515963e+07\n",
       "3     5.758674e+07\n",
       "30    6.271689e+07\n",
       "37    7.420274e+07\n",
       "16    7.425243e+07\n",
       "29    7.714155e+07\n",
       "9     7.778922e+07\n",
       "42    7.956575e+07\n",
       "7     8.159828e+07\n",
       "15    8.913368e+07\n",
       "43    9.056544e+07\n",
       "25    1.010612e+08\n",
       "21    1.081179e+08\n",
       "45    1.123953e+08\n",
       "17    1.277821e+08\n",
       "8     1.299512e+08\n",
       "35    1.315207e+08\n",
       "40    1.378703e+08\n",
       "34    1.382498e+08\n",
       "26    1.434164e+08\n",
       "12    1.442872e+08\n",
       "22    1.470756e+08\n",
       "18    1.551147e+08\n",
       "32    1.668192e+08\n",
       "41    1.813419e+08\n",
       "28    1.892637e+08\n",
       "11    1.939628e+08\n",
       "24    1.940160e+08\n",
       "23    1.987506e+08\n",
       "31    1.996139e+08\n",
       "19    2.066349e+08\n",
       "39    2.074455e+08\n",
       "1     2.224028e+08\n",
       "6     2.237561e+08\n",
       "27    2.538559e+08\n",
       "10    2.716177e+08\n",
       "2     2.753824e+08\n",
       "13    2.865177e+08\n",
       "14    2.889999e+08\n",
       "4     2.995440e+08\n",
       "20    3.013978e+08\n",
       "Name: Weekly_Sales, dtype: float64"
      ]
     },
     "execution_count": 58,
     "metadata": {},
     "output_type": "execute_result"
    }
   ],
   "execution_count": 58
  },
  {
   "metadata": {},
   "cell_type": "markdown",
   "source": "#### One observation from the above based on the weekly sales data is that the Store(ID) does not have any ordinal relationship ie there is no order i.e. higher store id has higher sales etc. so the data for this field is nominal but in int so we will need to do one hot encoding when we analysis for comparing stores performance",
   "id": "75d5969608c56c6d"
  },
  {
   "metadata": {
    "ExecuteTime": {
     "end_time": "2025-02-16T22:06:58.297689Z",
     "start_time": "2025-02-16T22:06:58.287882Z"
    }
   },
   "cell_type": "code",
   "source": "total_weekly_sales_bystore.describe([1/3,2/3])",
   "id": "f120f14e889e8f5c",
   "outputs": [
    {
     "data": {
      "text/plain": [
       "count    4.500000e+01\n",
       "mean     1.497160e+08\n",
       "std      7.816756e+07\n",
       "min      3.716022e+07\n",
       "33.3%    9.756260e+07\n",
       "50%      1.382498e+08\n",
       "66.7%    1.908300e+08\n",
       "max      3.013978e+08\n",
       "Name: Weekly_Sales, dtype: float64"
      ]
     },
     "execution_count": 59,
     "metadata": {},
     "output_type": "execute_result"
    }
   ],
   "execution_count": 59
  },
  {
   "metadata": {},
   "cell_type": "markdown",
   "source": "No such stores were found whose overall sales are -ve. So we can keep the -ve values as is and not drop them.",
   "id": "9151d72b97d82c8a"
  },
  {
   "metadata": {},
   "cell_type": "markdown",
   "source": "Let us check if there are more than 45 store id if so then there could be spurious data . We see store id's are ranging 1 through 45 so there are no spurious data ",
   "id": "6807e0fb3a77729e"
  },
  {
   "metadata": {},
   "cell_type": "markdown",
   "source": "Lets see the median store sales ",
   "id": "f8a0d298f6c431cf"
  },
  {
   "metadata": {
    "ExecuteTime": {
     "end_time": "2025-02-16T22:06:58.438471Z",
     "start_time": "2025-02-16T22:06:58.432106Z"
    }
   },
   "cell_type": "code",
   "source": "total_weekly_sales_bystore.median()",
   "id": "10973e7ab01931eb",
   "outputs": [
    {
     "data": {
      "text/plain": [
       "np.float64(138249763.0)"
      ]
     },
     "execution_count": 60,
     "metadata": {},
     "output_type": "execute_result"
    }
   ],
   "execution_count": 60
  },
  {
   "metadata": {},
   "cell_type": "markdown",
   "source": "In the below line we see that store ids are having order but these have no relationship to the order of the sales volume but there are 45 storeIDs which are unique between 1 and 45",
   "id": "41782c44b1f5ed08"
  },
  {
   "metadata": {
    "ExecuteTime": {
     "end_time": "2025-02-16T22:06:58.582005Z",
     "start_time": "2025-02-16T22:06:58.576601Z"
    }
   },
   "cell_type": "code",
   "source": "sales_df[\"Store\"].unique()",
   "id": "809d1c4d5f11be2f",
   "outputs": [
    {
     "data": {
      "text/plain": [
       "array([ 1,  2,  3,  4,  5,  6,  7,  8,  9, 10, 11, 12, 13, 14, 15, 16, 17,\n",
       "       18, 19, 20, 21, 22, 23, 24, 25, 26, 27, 28, 29, 30, 31, 32, 33, 34,\n",
       "       35, 36, 37, 38, 39, 40, 41, 42, 43, 44, 45])"
      ]
     },
     "execution_count": 61,
     "metadata": {},
     "output_type": "execute_result"
    }
   ],
   "execution_count": 61
  },
  {
   "metadata": {},
   "cell_type": "markdown",
   "source": "There are 81 unique departments across all 45 stores as observed below\n",
   "id": "92b9d151becf477d"
  },
  {
   "metadata": {
    "ExecuteTime": {
     "end_time": "2025-02-16T22:06:58.684596Z",
     "start_time": "2025-02-16T22:06:58.679753Z"
    }
   },
   "cell_type": "code",
   "source": "sales_df[\"Dept\"].unique().shape",
   "id": "d0aee257b1785885",
   "outputs": [
    {
     "data": {
      "text/plain": [
       "(81,)"
      ]
     },
     "execution_count": 62,
     "metadata": {},
     "output_type": "execute_result"
    }
   ],
   "execution_count": 62
  },
  {
   "metadata": {},
   "cell_type": "markdown",
   "source": "Below line shows there are 0 duplicate rows in the Sales DF",
   "id": "c4ca9c85e9df03b0"
  },
  {
   "metadata": {
    "ExecuteTime": {
     "end_time": "2025-02-16T22:06:58.805866Z",
     "start_time": "2025-02-16T22:06:58.757112Z"
    }
   },
   "cell_type": "code",
   "source": [
    "#check for any duplicate rows\n",
    "sales_df.duplicated().sum()"
   ],
   "id": "a0cf9893de546f7a",
   "outputs": [
    {
     "data": {
      "text/plain": [
       "np.int64(0)"
      ]
     },
     "execution_count": 63,
     "metadata": {},
     "output_type": "execute_result"
    }
   ],
   "execution_count": 63
  },
  {
   "metadata": {},
   "cell_type": "markdown",
   "source": "Lets check for null or NA values (non found in the sales DF as shown below)",
   "id": "51a1b8bb3d83d9ce"
  },
  {
   "metadata": {
    "ExecuteTime": {
     "end_time": "2025-02-16T22:06:58.845455Z",
     "start_time": "2025-02-16T22:06:58.831020Z"
    }
   },
   "cell_type": "code",
   "source": "sales_df.isna().sum()",
   "id": "2237a5350325ff80",
   "outputs": [
    {
     "data": {
      "text/plain": [
       "Store           0\n",
       "Dept            0\n",
       "Date            0\n",
       "Weekly_Sales    0\n",
       "IsHoliday       0\n",
       "dtype: int64"
      ]
     },
     "execution_count": 64,
     "metadata": {},
     "output_type": "execute_result"
    }
   ],
   "execution_count": 64
  },
  {
   "metadata": {
    "ExecuteTime": {
     "end_time": "2025-02-16T22:06:58.892136Z",
     "start_time": "2025-02-16T22:06:58.879680Z"
    }
   },
   "cell_type": "code",
   "source": "sales_df.isnull().sum()",
   "id": "744294db0cebbe26",
   "outputs": [
    {
     "data": {
      "text/plain": [
       "Store           0\n",
       "Dept            0\n",
       "Date            0\n",
       "Weekly_Sales    0\n",
       "IsHoliday       0\n",
       "dtype: int64"
      ]
     },
     "execution_count": 65,
     "metadata": {},
     "output_type": "execute_result"
    }
   ],
   "execution_count": 65
  },
  {
   "metadata": {},
   "cell_type": "markdown",
   "source": [
    "So There are no duplicate rows, there are no NA or null values. \n",
    "\n",
    "Let us check if the date range is valid and there are any value in the Dtype object which doesnt fall in the dataset provided date range\n",
    "\n",
    "Lets Convert date column Object Dtype to datetime Dtype . As shown below the date range is between the given date range for the dataset so no cleaning up needed"
   ],
   "id": "9f8e328b210dc096"
  },
  {
   "metadata": {},
   "cell_type": "markdown",
   "source": [
    "#### search on google : \"dataframe largest values in columns\"\n",
    " \n",
    "One item sshowed up : pandas.DataFrame.nlargest — pandas 2.2.3 documentation (https://pandas.pydata.org/docs/reference/api/pandas.DataFrame.nlargest.html)\n",
    "\n",
    "DataFrame.nlargest(n, columns, keep='first')[source]\n",
    "Return the first n rows ordered by columns in descending order.\n",
    "\n",
    "Return the first n rows with the largest values in columns, in descending order. \n",
    "\n",
    "Looked into Matplotlib  for :Pyplot annotate\n",
    "\n",
    "Received result: https://matplotlib.org/stable/api/_as_gen/matplotlib.pyplot.annotate.html#matplotlib.pyplot.annotate \n",
    "\n",
    "matplotlib.pyplot.annotate(text, xy, xytext=None, xycoords='data', textcoords=None, arrowprops=None, annotation_clip=None, **kwargs)\n",
    "minimum needed are first two  arguments"
   ],
   "id": "16e84c46ab164014"
  },
  {
   "metadata": {
    "ExecuteTime": {
     "end_time": "2025-02-16T22:06:59.084659Z",
     "start_time": "2025-02-16T22:06:59.032289Z"
    }
   },
   "cell_type": "code",
   "source": [
    "try:\n",
    "\tsales_df[\"Date\"] = pd.to_datetime(sales_df[\"Date\"], format='%Y-%m-%d')\n",
    "\tprint(\"It worked!\")\n",
    "except ValueError as e:\n",
    "\tprint(f\"ValueError for AccountOpened: {e}\")\n",
    "sales_df[\"Date\"].describe()"
   ],
   "id": "33057426bb771037",
   "outputs": [
    {
     "name": "stdout",
     "output_type": "stream",
     "text": [
      "It worked!\n"
     ]
    },
    {
     "data": {
      "text/plain": [
       "count                           421570\n",
       "mean     2011-06-18 08:30:31.963375104\n",
       "min                2010-02-05 00:00:00\n",
       "25%                2010-10-08 00:00:00\n",
       "50%                2011-06-17 00:00:00\n",
       "75%                2012-02-24 00:00:00\n",
       "max                2012-10-26 00:00:00\n",
       "Name: Date, dtype: object"
      ]
     },
     "execution_count": 66,
     "metadata": {},
     "output_type": "execute_result"
    }
   ],
   "execution_count": 66
  },
  {
   "metadata": {},
   "cell_type": "markdown",
   "source": [
    "The data in the sales_df is clean and can be used.\n",
    "\n",
    "Based on the above and the dataset description given what observe is that Store, Dept are categorical data, and we may need to do one hot coding later on if needed . Bool Dtype doesnt need onehot coding i.e. is_holiday column. The Store column has 45 unique data(nominal) , Dept has 81 unique and nominal values\n",
    " "
   ],
   "id": "2fb4cc3e6d4c0609"
  },
  {
   "metadata": {},
   "cell_type": "markdown",
   "source": [
    "### Analysis of Stores data(stores_df)\n",
    "\n",
    "####     Observations (summarized in this section but analyzed in detail below):\n",
    "Rows of data = 45  (matches with the data provided in the sales_df \n",
    "Store and Type are categorical (non ordinal)data and will need one hot coding. Overall data looks clean and without duplicates or null(or NA) and values are within acceptable range . The size of stores are all positive and looks within acceptable range. Due to large number of values of the categorical columns(stio we will keep the store and Type as categorical value and before the stage we need to convert them to int datatype we will perform one hot encoding. This will help us keep the columns within manageable numbers"
   ],
   "id": "ebc445a71250ab22"
  },
  {
   "metadata": {},
   "cell_type": "markdown",
   "source": "#### Now lets do a quick analysis of the stores_df dataframe",
   "id": "34b4cc0c28311d25"
  },
  {
   "metadata": {
    "ExecuteTime": {
     "end_time": "2025-02-16T22:06:59.299568Z",
     "start_time": "2025-02-16T22:06:59.291663Z"
    }
   },
   "cell_type": "code",
   "source": "stores_df.info()",
   "id": "111b854cc49161aa",
   "outputs": [
    {
     "name": "stdout",
     "output_type": "stream",
     "text": [
      "<class 'pandas.core.frame.DataFrame'>\n",
      "RangeIndex: 45 entries, 0 to 44\n",
      "Data columns (total 3 columns):\n",
      " #   Column  Non-Null Count  Dtype \n",
      "---  ------  --------------  ----- \n",
      " 0   Store   45 non-null     int64 \n",
      " 1   Type    45 non-null     object\n",
      " 2   Size    45 non-null     int64 \n",
      "dtypes: int64(2), object(1)\n",
      "memory usage: 1.2+ KB\n"
     ]
    }
   ],
   "execution_count": 67
  },
  {
   "metadata": {},
   "cell_type": "markdown",
   "source": "",
   "id": "2c64256863496ff8"
  },
  {
   "metadata": {},
   "cell_type": "markdown",
   "source": "",
   "id": "f756e6af3df24e6"
  },
  {
   "metadata": {},
   "cell_type": "markdown",
   "source": [
    "#### now lets understand the data in the stores_df dataframe\n",
    "\n",
    "Strore IDs min is 1 max is 45 and count is 45 which means each of the row looks to be for individual store but we will validate. The store size column shows that min area is 63825 (guessing sq feet) and max is 219622\n"
   ],
   "id": "d48a8a3d1b29f0ca"
  },
  {
   "metadata": {
    "ExecuteTime": {
     "end_time": "2025-02-16T22:06:59.469525Z",
     "start_time": "2025-02-16T22:06:59.458685Z"
    }
   },
   "cell_type": "code",
   "source": "stores_df.describe([1/3,2/3])",
   "id": "1f140c8c1a4c3fa1",
   "outputs": [
    {
     "data": {
      "text/plain": [
       "           Store           Size\n",
       "count  45.000000      45.000000\n",
       "mean   23.000000  130287.600000\n",
       "std    13.133926   63825.271991\n",
       "min     1.000000   34875.000000\n",
       "33.3%  15.666667  109385.666667\n",
       "50%    23.000000  126512.000000\n",
       "66.7%  30.333333  166779.000000\n",
       "max    45.000000  219622.000000"
      ],
      "text/html": [
       "<div>\n",
       "<style scoped>\n",
       "    .dataframe tbody tr th:only-of-type {\n",
       "        vertical-align: middle;\n",
       "    }\n",
       "\n",
       "    .dataframe tbody tr th {\n",
       "        vertical-align: top;\n",
       "    }\n",
       "\n",
       "    .dataframe thead th {\n",
       "        text-align: right;\n",
       "    }\n",
       "</style>\n",
       "<table border=\"1\" class=\"dataframe\">\n",
       "  <thead>\n",
       "    <tr style=\"text-align: right;\">\n",
       "      <th></th>\n",
       "      <th>Store</th>\n",
       "      <th>Size</th>\n",
       "    </tr>\n",
       "  </thead>\n",
       "  <tbody>\n",
       "    <tr>\n",
       "      <th>count</th>\n",
       "      <td>45.000000</td>\n",
       "      <td>45.000000</td>\n",
       "    </tr>\n",
       "    <tr>\n",
       "      <th>mean</th>\n",
       "      <td>23.000000</td>\n",
       "      <td>130287.600000</td>\n",
       "    </tr>\n",
       "    <tr>\n",
       "      <th>std</th>\n",
       "      <td>13.133926</td>\n",
       "      <td>63825.271991</td>\n",
       "    </tr>\n",
       "    <tr>\n",
       "      <th>min</th>\n",
       "      <td>1.000000</td>\n",
       "      <td>34875.000000</td>\n",
       "    </tr>\n",
       "    <tr>\n",
       "      <th>33.3%</th>\n",
       "      <td>15.666667</td>\n",
       "      <td>109385.666667</td>\n",
       "    </tr>\n",
       "    <tr>\n",
       "      <th>50%</th>\n",
       "      <td>23.000000</td>\n",
       "      <td>126512.000000</td>\n",
       "    </tr>\n",
       "    <tr>\n",
       "      <th>66.7%</th>\n",
       "      <td>30.333333</td>\n",
       "      <td>166779.000000</td>\n",
       "    </tr>\n",
       "    <tr>\n",
       "      <th>max</th>\n",
       "      <td>45.000000</td>\n",
       "      <td>219622.000000</td>\n",
       "    </tr>\n",
       "  </tbody>\n",
       "</table>\n",
       "</div>"
      ]
     },
     "execution_count": 68,
     "metadata": {},
     "output_type": "execute_result"
    }
   ],
   "execution_count": 68
  },
  {
   "metadata": {
    "ExecuteTime": {
     "end_time": "2025-02-16T22:06:59.569940Z",
     "start_time": "2025-02-16T22:06:59.564430Z"
    }
   },
   "cell_type": "code",
   "source": "stores_df.head()",
   "id": "99ff406bb3b24fbf",
   "outputs": [
    {
     "data": {
      "text/plain": [
       "   Store Type    Size\n",
       "0      1    A  151315\n",
       "1      2    A  202307\n",
       "2      3    B   37392\n",
       "3      4    A  205863\n",
       "4      5    B   34875"
      ],
      "text/html": [
       "<div>\n",
       "<style scoped>\n",
       "    .dataframe tbody tr th:only-of-type {\n",
       "        vertical-align: middle;\n",
       "    }\n",
       "\n",
       "    .dataframe tbody tr th {\n",
       "        vertical-align: top;\n",
       "    }\n",
       "\n",
       "    .dataframe thead th {\n",
       "        text-align: right;\n",
       "    }\n",
       "</style>\n",
       "<table border=\"1\" class=\"dataframe\">\n",
       "  <thead>\n",
       "    <tr style=\"text-align: right;\">\n",
       "      <th></th>\n",
       "      <th>Store</th>\n",
       "      <th>Type</th>\n",
       "      <th>Size</th>\n",
       "    </tr>\n",
       "  </thead>\n",
       "  <tbody>\n",
       "    <tr>\n",
       "      <th>0</th>\n",
       "      <td>1</td>\n",
       "      <td>A</td>\n",
       "      <td>151315</td>\n",
       "    </tr>\n",
       "    <tr>\n",
       "      <th>1</th>\n",
       "      <td>2</td>\n",
       "      <td>A</td>\n",
       "      <td>202307</td>\n",
       "    </tr>\n",
       "    <tr>\n",
       "      <th>2</th>\n",
       "      <td>3</td>\n",
       "      <td>B</td>\n",
       "      <td>37392</td>\n",
       "    </tr>\n",
       "    <tr>\n",
       "      <th>3</th>\n",
       "      <td>4</td>\n",
       "      <td>A</td>\n",
       "      <td>205863</td>\n",
       "    </tr>\n",
       "    <tr>\n",
       "      <th>4</th>\n",
       "      <td>5</td>\n",
       "      <td>B</td>\n",
       "      <td>34875</td>\n",
       "    </tr>\n",
       "  </tbody>\n",
       "</table>\n",
       "</div>"
      ]
     },
     "execution_count": 69,
     "metadata": {},
     "output_type": "execute_result"
    }
   ],
   "execution_count": 69
  },
  {
   "metadata": {
    "ExecuteTime": {
     "end_time": "2025-02-16T22:06:59.878113Z",
     "start_time": "2025-02-16T22:06:59.867208Z"
    }
   },
   "cell_type": "code",
   "source": "stores_df.duplicated().sum()",
   "id": "67f3dd14e7373e8b",
   "outputs": [
    {
     "data": {
      "text/plain": [
       "np.int64(0)"
      ]
     },
     "execution_count": 70,
     "metadata": {},
     "output_type": "execute_result"
    }
   ],
   "execution_count": 70
  },
  {
   "metadata": {
    "ExecuteTime": {
     "end_time": "2025-02-16T22:07:00.247271Z",
     "start_time": "2025-02-16T22:07:00.239897Z"
    }
   },
   "cell_type": "code",
   "source": "stores_df.isna().sum()",
   "id": "f1cb6e50d089dcf4",
   "outputs": [
    {
     "data": {
      "text/plain": [
       "Store    0\n",
       "Type     0\n",
       "Size     0\n",
       "dtype: int64"
      ]
     },
     "execution_count": 71,
     "metadata": {},
     "output_type": "execute_result"
    }
   ],
   "execution_count": 71
  },
  {
   "metadata": {
    "ExecuteTime": {
     "end_time": "2025-02-16T22:07:00.393630Z",
     "start_time": "2025-02-16T22:07:00.388207Z"
    }
   },
   "cell_type": "code",
   "source": "stores_df.isnull().sum()",
   "id": "32338e27ba3d7713",
   "outputs": [
    {
     "data": {
      "text/plain": [
       "Store    0\n",
       "Type     0\n",
       "Size     0\n",
       "dtype: int64"
      ]
     },
     "execution_count": 72,
     "metadata": {},
     "output_type": "execute_result"
    }
   ],
   "execution_count": 72
  },
  {
   "metadata": {},
   "cell_type": "markdown",
   "source": [
    "There are no duplicates  or null or na values .\n",
    "\n",
    "Based on the above DTypes The column of name \"Type\" is of type object but looks like string and from the definition it looks like a mapped value of store type. . We will try to see how many different store type are there. If its limited numbers in low two digit we can use one hot encoding now else we will put it for later i.e during doing specific analysis\n",
    "   "
   ],
   "id": "33c5a8a70caf9237"
  },
  {
   "metadata": {
    "ExecuteTime": {
     "end_time": "2025-02-16T22:07:00.507416Z",
     "start_time": "2025-02-16T22:07:00.502998Z"
    }
   },
   "cell_type": "code",
   "source": "stores_df['Type'].value_counts()\n",
   "id": "d619ac6320b544ee",
   "outputs": [
    {
     "data": {
      "text/plain": [
       "Type\n",
       "A    22\n",
       "B    17\n",
       "C     6\n",
       "Name: count, dtype: int64"
      ]
     },
     "execution_count": 73,
     "metadata": {},
     "output_type": "execute_result"
    }
   ],
   "execution_count": 73
  },
  {
   "metadata": {},
   "cell_type": "markdown",
   "source": "#### we see there are three types A, B , C  and sum total of the frequency of the three types is 45 which is max numbe rof stores in the dataset",
   "id": "411df63244db5710"
  },
  {
   "metadata": {
    "ExecuteTime": {
     "end_time": "2025-02-16T22:07:00.683128Z",
     "start_time": "2025-02-16T22:07:00.679915Z"
    }
   },
   "cell_type": "code",
   "source": "stores_df['Store'].unique().shape",
   "id": "349d85bff1517a5",
   "outputs": [
    {
     "data": {
      "text/plain": [
       "(45,)"
      ]
     },
     "execution_count": 74,
     "metadata": {},
     "output_type": "execute_result"
    }
   ],
   "execution_count": 74
  },
  {
   "metadata": {},
   "cell_type": "markdown",
   "source": [
    "So the data looks clean without duplicates or null(or NA) and values are within acceptable range . The size of stores are all positive and looks within acceptable range\n",
    "\n",
    "Lets do one hot coding of the Type column\n",
    "one_hot = pd.get_dummies(df_bank_datefix[\"AccountType\"], prefix='AccountType')\n",
    "one_hot_encoded = one_hot.astype(int)\n",
    "df_bank_datefix = df_bank_datefix.join(one_hot_encoded)\n",
    "df_bank_datefix = df_bank_datefix.drop(columns=['cd', 'checking', 'savings'], errors='ignore')  #\n",
    "\n",
    "df_bank_datefix\n"
   ],
   "id": "699c8638018dc8f4"
  },
  {
   "metadata": {
    "ExecuteTime": {
     "end_time": "2025-02-16T22:07:00.869479Z",
     "start_time": "2025-02-16T22:07:00.864551Z"
    }
   },
   "cell_type": "code",
   "source": [
    "one_hot = pd.get_dummies(stores_df[\"Type\"], columns=['Type'], prefix='Store_Type')\n",
    "stores_df = stores_df.join(one_hot)\n",
    "\n",
    "stores_df = stores_df.drop(columns=['Type'], errors='ignore') "
   ],
   "id": "9f7944070b4b0f54",
   "outputs": [],
   "execution_count": 75
  },
  {
   "metadata": {
    "ExecuteTime": {
     "end_time": "2025-02-16T22:07:01.002731Z",
     "start_time": "2025-02-16T22:07:00.995409Z"
    }
   },
   "cell_type": "code",
   "source": "stores_df",
   "id": "7918c8c596ebddc1",
   "outputs": [
    {
     "data": {
      "text/plain": [
       "    Store    Size  Store_Type_A  Store_Type_B  Store_Type_C\n",
       "0       1  151315          True         False         False\n",
       "1       2  202307          True         False         False\n",
       "2       3   37392         False          True         False\n",
       "3       4  205863          True         False         False\n",
       "4       5   34875         False          True         False\n",
       "5       6  202505          True         False         False\n",
       "6       7   70713         False          True         False\n",
       "7       8  155078          True         False         False\n",
       "8       9  125833         False          True         False\n",
       "9      10  126512         False          True         False\n",
       "10     11  207499          True         False         False\n",
       "11     12  112238         False          True         False\n",
       "12     13  219622          True         False         False\n",
       "13     14  200898          True         False         False\n",
       "14     15  123737         False          True         False\n",
       "15     16   57197         False          True         False\n",
       "16     17   93188         False          True         False\n",
       "17     18  120653         False          True         False\n",
       "18     19  203819          True         False         False\n",
       "19     20  203742          True         False         False\n",
       "20     21  140167         False          True         False\n",
       "21     22  119557         False          True         False\n",
       "22     23  114533         False          True         False\n",
       "23     24  203819          True         False         False\n",
       "24     25  128107         False          True         False\n",
       "25     26  152513          True         False         False\n",
       "26     27  204184          True         False         False\n",
       "27     28  206302          True         False         False\n",
       "28     29   93638         False          True         False\n",
       "29     30   42988         False         False          True\n",
       "30     31  203750          True         False         False\n",
       "31     32  203007          True         False         False\n",
       "32     33   39690          True         False         False\n",
       "33     34  158114          True         False         False\n",
       "34     35  103681         False          True         False\n",
       "35     36   39910          True         False         False\n",
       "36     37   39910         False         False          True\n",
       "37     38   39690         False         False          True\n",
       "38     39  184109          True         False         False\n",
       "39     40  155083          True         False         False\n",
       "40     41  196321          True         False         False\n",
       "41     42   39690         False         False          True\n",
       "42     43   41062         False         False          True\n",
       "43     44   39910         False         False          True\n",
       "44     45  118221         False          True         False"
      ],
      "text/html": [
       "<div>\n",
       "<style scoped>\n",
       "    .dataframe tbody tr th:only-of-type {\n",
       "        vertical-align: middle;\n",
       "    }\n",
       "\n",
       "    .dataframe tbody tr th {\n",
       "        vertical-align: top;\n",
       "    }\n",
       "\n",
       "    .dataframe thead th {\n",
       "        text-align: right;\n",
       "    }\n",
       "</style>\n",
       "<table border=\"1\" class=\"dataframe\">\n",
       "  <thead>\n",
       "    <tr style=\"text-align: right;\">\n",
       "      <th></th>\n",
       "      <th>Store</th>\n",
       "      <th>Size</th>\n",
       "      <th>Store_Type_A</th>\n",
       "      <th>Store_Type_B</th>\n",
       "      <th>Store_Type_C</th>\n",
       "    </tr>\n",
       "  </thead>\n",
       "  <tbody>\n",
       "    <tr>\n",
       "      <th>0</th>\n",
       "      <td>1</td>\n",
       "      <td>151315</td>\n",
       "      <td>True</td>\n",
       "      <td>False</td>\n",
       "      <td>False</td>\n",
       "    </tr>\n",
       "    <tr>\n",
       "      <th>1</th>\n",
       "      <td>2</td>\n",
       "      <td>202307</td>\n",
       "      <td>True</td>\n",
       "      <td>False</td>\n",
       "      <td>False</td>\n",
       "    </tr>\n",
       "    <tr>\n",
       "      <th>2</th>\n",
       "      <td>3</td>\n",
       "      <td>37392</td>\n",
       "      <td>False</td>\n",
       "      <td>True</td>\n",
       "      <td>False</td>\n",
       "    </tr>\n",
       "    <tr>\n",
       "      <th>3</th>\n",
       "      <td>4</td>\n",
       "      <td>205863</td>\n",
       "      <td>True</td>\n",
       "      <td>False</td>\n",
       "      <td>False</td>\n",
       "    </tr>\n",
       "    <tr>\n",
       "      <th>4</th>\n",
       "      <td>5</td>\n",
       "      <td>34875</td>\n",
       "      <td>False</td>\n",
       "      <td>True</td>\n",
       "      <td>False</td>\n",
       "    </tr>\n",
       "    <tr>\n",
       "      <th>5</th>\n",
       "      <td>6</td>\n",
       "      <td>202505</td>\n",
       "      <td>True</td>\n",
       "      <td>False</td>\n",
       "      <td>False</td>\n",
       "    </tr>\n",
       "    <tr>\n",
       "      <th>6</th>\n",
       "      <td>7</td>\n",
       "      <td>70713</td>\n",
       "      <td>False</td>\n",
       "      <td>True</td>\n",
       "      <td>False</td>\n",
       "    </tr>\n",
       "    <tr>\n",
       "      <th>7</th>\n",
       "      <td>8</td>\n",
       "      <td>155078</td>\n",
       "      <td>True</td>\n",
       "      <td>False</td>\n",
       "      <td>False</td>\n",
       "    </tr>\n",
       "    <tr>\n",
       "      <th>8</th>\n",
       "      <td>9</td>\n",
       "      <td>125833</td>\n",
       "      <td>False</td>\n",
       "      <td>True</td>\n",
       "      <td>False</td>\n",
       "    </tr>\n",
       "    <tr>\n",
       "      <th>9</th>\n",
       "      <td>10</td>\n",
       "      <td>126512</td>\n",
       "      <td>False</td>\n",
       "      <td>True</td>\n",
       "      <td>False</td>\n",
       "    </tr>\n",
       "    <tr>\n",
       "      <th>10</th>\n",
       "      <td>11</td>\n",
       "      <td>207499</td>\n",
       "      <td>True</td>\n",
       "      <td>False</td>\n",
       "      <td>False</td>\n",
       "    </tr>\n",
       "    <tr>\n",
       "      <th>11</th>\n",
       "      <td>12</td>\n",
       "      <td>112238</td>\n",
       "      <td>False</td>\n",
       "      <td>True</td>\n",
       "      <td>False</td>\n",
       "    </tr>\n",
       "    <tr>\n",
       "      <th>12</th>\n",
       "      <td>13</td>\n",
       "      <td>219622</td>\n",
       "      <td>True</td>\n",
       "      <td>False</td>\n",
       "      <td>False</td>\n",
       "    </tr>\n",
       "    <tr>\n",
       "      <th>13</th>\n",
       "      <td>14</td>\n",
       "      <td>200898</td>\n",
       "      <td>True</td>\n",
       "      <td>False</td>\n",
       "      <td>False</td>\n",
       "    </tr>\n",
       "    <tr>\n",
       "      <th>14</th>\n",
       "      <td>15</td>\n",
       "      <td>123737</td>\n",
       "      <td>False</td>\n",
       "      <td>True</td>\n",
       "      <td>False</td>\n",
       "    </tr>\n",
       "    <tr>\n",
       "      <th>15</th>\n",
       "      <td>16</td>\n",
       "      <td>57197</td>\n",
       "      <td>False</td>\n",
       "      <td>True</td>\n",
       "      <td>False</td>\n",
       "    </tr>\n",
       "    <tr>\n",
       "      <th>16</th>\n",
       "      <td>17</td>\n",
       "      <td>93188</td>\n",
       "      <td>False</td>\n",
       "      <td>True</td>\n",
       "      <td>False</td>\n",
       "    </tr>\n",
       "    <tr>\n",
       "      <th>17</th>\n",
       "      <td>18</td>\n",
       "      <td>120653</td>\n",
       "      <td>False</td>\n",
       "      <td>True</td>\n",
       "      <td>False</td>\n",
       "    </tr>\n",
       "    <tr>\n",
       "      <th>18</th>\n",
       "      <td>19</td>\n",
       "      <td>203819</td>\n",
       "      <td>True</td>\n",
       "      <td>False</td>\n",
       "      <td>False</td>\n",
       "    </tr>\n",
       "    <tr>\n",
       "      <th>19</th>\n",
       "      <td>20</td>\n",
       "      <td>203742</td>\n",
       "      <td>True</td>\n",
       "      <td>False</td>\n",
       "      <td>False</td>\n",
       "    </tr>\n",
       "    <tr>\n",
       "      <th>20</th>\n",
       "      <td>21</td>\n",
       "      <td>140167</td>\n",
       "      <td>False</td>\n",
       "      <td>True</td>\n",
       "      <td>False</td>\n",
       "    </tr>\n",
       "    <tr>\n",
       "      <th>21</th>\n",
       "      <td>22</td>\n",
       "      <td>119557</td>\n",
       "      <td>False</td>\n",
       "      <td>True</td>\n",
       "      <td>False</td>\n",
       "    </tr>\n",
       "    <tr>\n",
       "      <th>22</th>\n",
       "      <td>23</td>\n",
       "      <td>114533</td>\n",
       "      <td>False</td>\n",
       "      <td>True</td>\n",
       "      <td>False</td>\n",
       "    </tr>\n",
       "    <tr>\n",
       "      <th>23</th>\n",
       "      <td>24</td>\n",
       "      <td>203819</td>\n",
       "      <td>True</td>\n",
       "      <td>False</td>\n",
       "      <td>False</td>\n",
       "    </tr>\n",
       "    <tr>\n",
       "      <th>24</th>\n",
       "      <td>25</td>\n",
       "      <td>128107</td>\n",
       "      <td>False</td>\n",
       "      <td>True</td>\n",
       "      <td>False</td>\n",
       "    </tr>\n",
       "    <tr>\n",
       "      <th>25</th>\n",
       "      <td>26</td>\n",
       "      <td>152513</td>\n",
       "      <td>True</td>\n",
       "      <td>False</td>\n",
       "      <td>False</td>\n",
       "    </tr>\n",
       "    <tr>\n",
       "      <th>26</th>\n",
       "      <td>27</td>\n",
       "      <td>204184</td>\n",
       "      <td>True</td>\n",
       "      <td>False</td>\n",
       "      <td>False</td>\n",
       "    </tr>\n",
       "    <tr>\n",
       "      <th>27</th>\n",
       "      <td>28</td>\n",
       "      <td>206302</td>\n",
       "      <td>True</td>\n",
       "      <td>False</td>\n",
       "      <td>False</td>\n",
       "    </tr>\n",
       "    <tr>\n",
       "      <th>28</th>\n",
       "      <td>29</td>\n",
       "      <td>93638</td>\n",
       "      <td>False</td>\n",
       "      <td>True</td>\n",
       "      <td>False</td>\n",
       "    </tr>\n",
       "    <tr>\n",
       "      <th>29</th>\n",
       "      <td>30</td>\n",
       "      <td>42988</td>\n",
       "      <td>False</td>\n",
       "      <td>False</td>\n",
       "      <td>True</td>\n",
       "    </tr>\n",
       "    <tr>\n",
       "      <th>30</th>\n",
       "      <td>31</td>\n",
       "      <td>203750</td>\n",
       "      <td>True</td>\n",
       "      <td>False</td>\n",
       "      <td>False</td>\n",
       "    </tr>\n",
       "    <tr>\n",
       "      <th>31</th>\n",
       "      <td>32</td>\n",
       "      <td>203007</td>\n",
       "      <td>True</td>\n",
       "      <td>False</td>\n",
       "      <td>False</td>\n",
       "    </tr>\n",
       "    <tr>\n",
       "      <th>32</th>\n",
       "      <td>33</td>\n",
       "      <td>39690</td>\n",
       "      <td>True</td>\n",
       "      <td>False</td>\n",
       "      <td>False</td>\n",
       "    </tr>\n",
       "    <tr>\n",
       "      <th>33</th>\n",
       "      <td>34</td>\n",
       "      <td>158114</td>\n",
       "      <td>True</td>\n",
       "      <td>False</td>\n",
       "      <td>False</td>\n",
       "    </tr>\n",
       "    <tr>\n",
       "      <th>34</th>\n",
       "      <td>35</td>\n",
       "      <td>103681</td>\n",
       "      <td>False</td>\n",
       "      <td>True</td>\n",
       "      <td>False</td>\n",
       "    </tr>\n",
       "    <tr>\n",
       "      <th>35</th>\n",
       "      <td>36</td>\n",
       "      <td>39910</td>\n",
       "      <td>True</td>\n",
       "      <td>False</td>\n",
       "      <td>False</td>\n",
       "    </tr>\n",
       "    <tr>\n",
       "      <th>36</th>\n",
       "      <td>37</td>\n",
       "      <td>39910</td>\n",
       "      <td>False</td>\n",
       "      <td>False</td>\n",
       "      <td>True</td>\n",
       "    </tr>\n",
       "    <tr>\n",
       "      <th>37</th>\n",
       "      <td>38</td>\n",
       "      <td>39690</td>\n",
       "      <td>False</td>\n",
       "      <td>False</td>\n",
       "      <td>True</td>\n",
       "    </tr>\n",
       "    <tr>\n",
       "      <th>38</th>\n",
       "      <td>39</td>\n",
       "      <td>184109</td>\n",
       "      <td>True</td>\n",
       "      <td>False</td>\n",
       "      <td>False</td>\n",
       "    </tr>\n",
       "    <tr>\n",
       "      <th>39</th>\n",
       "      <td>40</td>\n",
       "      <td>155083</td>\n",
       "      <td>True</td>\n",
       "      <td>False</td>\n",
       "      <td>False</td>\n",
       "    </tr>\n",
       "    <tr>\n",
       "      <th>40</th>\n",
       "      <td>41</td>\n",
       "      <td>196321</td>\n",
       "      <td>True</td>\n",
       "      <td>False</td>\n",
       "      <td>False</td>\n",
       "    </tr>\n",
       "    <tr>\n",
       "      <th>41</th>\n",
       "      <td>42</td>\n",
       "      <td>39690</td>\n",
       "      <td>False</td>\n",
       "      <td>False</td>\n",
       "      <td>True</td>\n",
       "    </tr>\n",
       "    <tr>\n",
       "      <th>42</th>\n",
       "      <td>43</td>\n",
       "      <td>41062</td>\n",
       "      <td>False</td>\n",
       "      <td>False</td>\n",
       "      <td>True</td>\n",
       "    </tr>\n",
       "    <tr>\n",
       "      <th>43</th>\n",
       "      <td>44</td>\n",
       "      <td>39910</td>\n",
       "      <td>False</td>\n",
       "      <td>False</td>\n",
       "      <td>True</td>\n",
       "    </tr>\n",
       "    <tr>\n",
       "      <th>44</th>\n",
       "      <td>45</td>\n",
       "      <td>118221</td>\n",
       "      <td>False</td>\n",
       "      <td>True</td>\n",
       "      <td>False</td>\n",
       "    </tr>\n",
       "  </tbody>\n",
       "</table>\n",
       "</div>"
      ]
     },
     "execution_count": 76,
     "metadata": {},
     "output_type": "execute_result"
    }
   ],
   "execution_count": 76
  },
  {
   "metadata": {},
   "cell_type": "markdown",
   "source": [
    "\n",
    "\n",
    "### Analysis features data(features_df)\n",
    "It looks like this dataframe is giving us allied datapoints for each store by date and has markdown ,fuel price ,temperature and also giving us economic indicators i.e. CPI and unemployment rate\n",
    "\n",
    "\n",
    "####     Observations (summarized in this section but analyzed in detail below):\n",
    "Rows of data = 8190  \n",
    "\n",
    "The Markdown data has values only in 2921 to max 4032 rows so majority are missing or not available \n",
    "\n",
    "Both the CPI data and unemployment data has values only in 7605 rows. \n",
    "\n",
    "Store are categorical data and before any training is done we need to convert those to integer by doing one hot encoding \n",
    "\n",
    "The Date column Dtype is object and needs to be changed to dateTime type. \n",
    "\n",
    "After converting we observe that the Date column value range is beyond the date range of the sales DF. We dont want to drop this data from the features DF as we may need the range beyond the sales data provided range for the testing or forecasting sales . Inorder not to consider this excess data we will try to use appropriate join clause to discard it in the merged data but leave it in the features dataframe. Base don earlier sales_df the date range of sales data is between 02/05/2010 and 10/26/2012. The features have date extending to 07/26/2013 (i.e nearly 9 months more)\n",
    "\n",
    "Since there are missing data in the features file(like markdown and CPI and employment) we will not drop the 'na' or null or missing data rows now, else it will drop many rows. instead we will keep the data and before doing specific analysis or training we will either dropna or impute as needed. The BLS site has CPI and employment data and for the date range we see the data as missing we can impute values  from the BLS site.\n",
    "\n",
    "The gas prices, temperature looks normal \n",
    "\n",
    "#### The unemployment data max looks incorrect and much higher(dataframe max is 14.3%) as US unemployment in those years was max at 8.1%, so we will look more into that column  \n",
    "\n",
    "https://www.statista.com/statistics/193290/unemployment-rate-in-the-usa-since-1990/\n",
    "\n",
    "On further research of data from BLS site we see during 2010  there were states which had unemployment in the range of 14% so we decided to keep the data as is and not drop it.\n",
    "\n",
    "We see no duplicate rows but the CPI data doesnt look to be at par with BLS data so we may need to drop the incorrect values or impute it ?(for the initial round I will drop the data if the CPI is with the limits of the BLS provided data) available at  https://www.ssa.gov/oact/STATS/avgcpi.html "
   ],
   "id": "e25f414a73e5fcff"
  },
  {
   "metadata": {
    "ExecuteTime": {
     "end_time": "2025-02-16T22:07:01.074695Z",
     "start_time": "2025-02-16T22:07:01.067539Z"
    }
   },
   "cell_type": "code",
   "source": "features_df.info()",
   "id": "20aabcac0334bb68",
   "outputs": [
    {
     "name": "stdout",
     "output_type": "stream",
     "text": [
      "<class 'pandas.core.frame.DataFrame'>\n",
      "RangeIndex: 8190 entries, 0 to 8189\n",
      "Data columns (total 12 columns):\n",
      " #   Column        Non-Null Count  Dtype  \n",
      "---  ------        --------------  -----  \n",
      " 0   Store         8190 non-null   int64  \n",
      " 1   Date          8190 non-null   object \n",
      " 2   Temperature   8190 non-null   float64\n",
      " 3   Fuel_Price    8190 non-null   float64\n",
      " 4   MarkDown1     4032 non-null   float64\n",
      " 5   MarkDown2     2921 non-null   float64\n",
      " 6   MarkDown3     3613 non-null   float64\n",
      " 7   MarkDown4     3464 non-null   float64\n",
      " 8   MarkDown5     4050 non-null   float64\n",
      " 9   CPI           7605 non-null   float64\n",
      " 10  Unemployment  7605 non-null   float64\n",
      " 11  IsHoliday     8190 non-null   bool   \n",
      "dtypes: bool(1), float64(9), int64(1), object(1)\n",
      "memory usage: 712.0+ KB\n"
     ]
    }
   ],
   "execution_count": 77
  },
  {
   "metadata": {},
   "cell_type": "markdown",
   "source": [
    "Lets convert the Date Dtype and see the range of the dates for which features have been provided\n",
    "\n",
    "We see the date range is beyond the date range of the sales DF. We dont want to drop this data from the features DF as we may need the range beyond the sales data provided range for the testing or forecasting sales . Inorder to not to consider this excess data we will try to use appropriate join clause to discard it in the merged data but leave it in the features dataframeWhen  "
   ],
   "id": "55887285cce706fc"
  },
  {
   "metadata": {
    "ExecuteTime": {
     "end_time": "2025-02-16T22:07:01.229663Z",
     "start_time": "2025-02-16T22:07:01.222445Z"
    }
   },
   "cell_type": "code",
   "source": [
    "try:\n",
    "\tfeatures_df[\"Date\"] = pd.to_datetime(features_df[\"Date\"], format='%Y-%m-%d')\n",
    "\tprint(\"It worked!\")\n",
    "except ValueError as e:\n",
    "\tprint(f\"ValueError for AccountOpened: {e}\")\n",
    "features_df[\"Date\"].describe()"
   ],
   "id": "d227d12e4a4ae7f3",
   "outputs": [
    {
     "name": "stdout",
     "output_type": "stream",
     "text": [
      "It worked!\n"
     ]
    },
    {
     "data": {
      "text/plain": [
       "count                   8190\n",
       "mean     2011-10-31 12:00:00\n",
       "min      2010-02-05 00:00:00\n",
       "25%      2010-12-17 00:00:00\n",
       "50%      2011-10-31 12:00:00\n",
       "75%      2012-09-14 00:00:00\n",
       "max      2013-07-26 00:00:00\n",
       "Name: Date, dtype: object"
      ]
     },
     "execution_count": 78,
     "metadata": {},
     "output_type": "execute_result"
    }
   ],
   "execution_count": 78
  },
  {
   "metadata": {
    "ExecuteTime": {
     "end_time": "2025-02-16T22:07:01.404842Z",
     "start_time": "2025-02-16T22:07:01.390811Z"
    }
   },
   "cell_type": "code",
   "source": "features_df.describe([1/3 , 2/3])",
   "id": "d1e62264a2d10c55",
   "outputs": [
    {
     "data": {
      "text/plain": [
       "             Store                 Date  Temperature   Fuel_Price  \\\n",
       "count  8190.000000                 8190  8190.000000  8190.000000   \n",
       "mean     23.000000  2011-10-31 12:00:00    59.356198     3.405992   \n",
       "min       1.000000  2010-02-05 00:00:00    -7.290000     2.472000   \n",
       "33.3%    15.666667  2011-04-01 00:00:00    51.000000     3.227000   \n",
       "50%      23.000000  2011-10-31 12:00:00    60.710000     3.513000   \n",
       "66.7%    30.333333  2012-06-01 00:00:00    69.543333     3.651333   \n",
       "max      45.000000  2013-07-26 00:00:00   101.950000     4.468000   \n",
       "std      12.987966                  NaN    18.678607     0.431337   \n",
       "\n",
       "           MarkDown1      MarkDown2      MarkDown3     MarkDown4  \\\n",
       "count    4032.000000    2921.000000    3613.000000   3464.000000   \n",
       "mean     7032.371786    3384.176594    1760.100180   3292.935886   \n",
       "min     -2781.450000    -265.760000    -179.260000      0.220000   \n",
       "33.3%    2619.403333     122.560000      11.720000    518.816667   \n",
       "50%      4743.580000     364.570000      36.260000   1176.425000   \n",
       "66.7%    7211.456667    1100.470000      96.900000   2369.033333   \n",
       "max    103184.980000  104519.540000  149483.310000  67474.850000   \n",
       "std      9262.747448    8793.583016   11276.462208   6792.329861   \n",
       "\n",
       "           MarkDown5          CPI  Unemployment  \n",
       "count    4050.000000  7605.000000   7605.000000  \n",
       "mean     4132.216422   172.460809      7.826821  \n",
       "min      -185.170000   126.064000      3.684000  \n",
       "33.3%    1818.680000   136.054032      7.082000  \n",
       "50%      2727.135000   182.764003      7.806000  \n",
       "66.7%    3904.010000   210.077189      8.300000  \n",
       "max    771448.100000   228.976456     14.313000  \n",
       "std     13086.690278    39.738346      1.877259  "
      ],
      "text/html": [
       "<div>\n",
       "<style scoped>\n",
       "    .dataframe tbody tr th:only-of-type {\n",
       "        vertical-align: middle;\n",
       "    }\n",
       "\n",
       "    .dataframe tbody tr th {\n",
       "        vertical-align: top;\n",
       "    }\n",
       "\n",
       "    .dataframe thead th {\n",
       "        text-align: right;\n",
       "    }\n",
       "</style>\n",
       "<table border=\"1\" class=\"dataframe\">\n",
       "  <thead>\n",
       "    <tr style=\"text-align: right;\">\n",
       "      <th></th>\n",
       "      <th>Store</th>\n",
       "      <th>Date</th>\n",
       "      <th>Temperature</th>\n",
       "      <th>Fuel_Price</th>\n",
       "      <th>MarkDown1</th>\n",
       "      <th>MarkDown2</th>\n",
       "      <th>MarkDown3</th>\n",
       "      <th>MarkDown4</th>\n",
       "      <th>MarkDown5</th>\n",
       "      <th>CPI</th>\n",
       "      <th>Unemployment</th>\n",
       "    </tr>\n",
       "  </thead>\n",
       "  <tbody>\n",
       "    <tr>\n",
       "      <th>count</th>\n",
       "      <td>8190.000000</td>\n",
       "      <td>8190</td>\n",
       "      <td>8190.000000</td>\n",
       "      <td>8190.000000</td>\n",
       "      <td>4032.000000</td>\n",
       "      <td>2921.000000</td>\n",
       "      <td>3613.000000</td>\n",
       "      <td>3464.000000</td>\n",
       "      <td>4050.000000</td>\n",
       "      <td>7605.000000</td>\n",
       "      <td>7605.000000</td>\n",
       "    </tr>\n",
       "    <tr>\n",
       "      <th>mean</th>\n",
       "      <td>23.000000</td>\n",
       "      <td>2011-10-31 12:00:00</td>\n",
       "      <td>59.356198</td>\n",
       "      <td>3.405992</td>\n",
       "      <td>7032.371786</td>\n",
       "      <td>3384.176594</td>\n",
       "      <td>1760.100180</td>\n",
       "      <td>3292.935886</td>\n",
       "      <td>4132.216422</td>\n",
       "      <td>172.460809</td>\n",
       "      <td>7.826821</td>\n",
       "    </tr>\n",
       "    <tr>\n",
       "      <th>min</th>\n",
       "      <td>1.000000</td>\n",
       "      <td>2010-02-05 00:00:00</td>\n",
       "      <td>-7.290000</td>\n",
       "      <td>2.472000</td>\n",
       "      <td>-2781.450000</td>\n",
       "      <td>-265.760000</td>\n",
       "      <td>-179.260000</td>\n",
       "      <td>0.220000</td>\n",
       "      <td>-185.170000</td>\n",
       "      <td>126.064000</td>\n",
       "      <td>3.684000</td>\n",
       "    </tr>\n",
       "    <tr>\n",
       "      <th>33.3%</th>\n",
       "      <td>15.666667</td>\n",
       "      <td>2011-04-01 00:00:00</td>\n",
       "      <td>51.000000</td>\n",
       "      <td>3.227000</td>\n",
       "      <td>2619.403333</td>\n",
       "      <td>122.560000</td>\n",
       "      <td>11.720000</td>\n",
       "      <td>518.816667</td>\n",
       "      <td>1818.680000</td>\n",
       "      <td>136.054032</td>\n",
       "      <td>7.082000</td>\n",
       "    </tr>\n",
       "    <tr>\n",
       "      <th>50%</th>\n",
       "      <td>23.000000</td>\n",
       "      <td>2011-10-31 12:00:00</td>\n",
       "      <td>60.710000</td>\n",
       "      <td>3.513000</td>\n",
       "      <td>4743.580000</td>\n",
       "      <td>364.570000</td>\n",
       "      <td>36.260000</td>\n",
       "      <td>1176.425000</td>\n",
       "      <td>2727.135000</td>\n",
       "      <td>182.764003</td>\n",
       "      <td>7.806000</td>\n",
       "    </tr>\n",
       "    <tr>\n",
       "      <th>66.7%</th>\n",
       "      <td>30.333333</td>\n",
       "      <td>2012-06-01 00:00:00</td>\n",
       "      <td>69.543333</td>\n",
       "      <td>3.651333</td>\n",
       "      <td>7211.456667</td>\n",
       "      <td>1100.470000</td>\n",
       "      <td>96.900000</td>\n",
       "      <td>2369.033333</td>\n",
       "      <td>3904.010000</td>\n",
       "      <td>210.077189</td>\n",
       "      <td>8.300000</td>\n",
       "    </tr>\n",
       "    <tr>\n",
       "      <th>max</th>\n",
       "      <td>45.000000</td>\n",
       "      <td>2013-07-26 00:00:00</td>\n",
       "      <td>101.950000</td>\n",
       "      <td>4.468000</td>\n",
       "      <td>103184.980000</td>\n",
       "      <td>104519.540000</td>\n",
       "      <td>149483.310000</td>\n",
       "      <td>67474.850000</td>\n",
       "      <td>771448.100000</td>\n",
       "      <td>228.976456</td>\n",
       "      <td>14.313000</td>\n",
       "    </tr>\n",
       "    <tr>\n",
       "      <th>std</th>\n",
       "      <td>12.987966</td>\n",
       "      <td>NaN</td>\n",
       "      <td>18.678607</td>\n",
       "      <td>0.431337</td>\n",
       "      <td>9262.747448</td>\n",
       "      <td>8793.583016</td>\n",
       "      <td>11276.462208</td>\n",
       "      <td>6792.329861</td>\n",
       "      <td>13086.690278</td>\n",
       "      <td>39.738346</td>\n",
       "      <td>1.877259</td>\n",
       "    </tr>\n",
       "  </tbody>\n",
       "</table>\n",
       "</div>"
      ]
     },
     "execution_count": 79,
     "metadata": {},
     "output_type": "execute_result"
    }
   ],
   "execution_count": 79
  },
  {
   "metadata": {
    "ExecuteTime": {
     "end_time": "2025-02-16T22:07:01.498740Z",
     "start_time": "2025-02-16T22:07:01.490587Z"
    }
   },
   "cell_type": "code",
   "source": "features_df.head()",
   "id": "51def030af7d1b1b",
   "outputs": [
    {
     "data": {
      "text/plain": [
       "   Store       Date  Temperature  Fuel_Price  MarkDown1  MarkDown2  MarkDown3  \\\n",
       "0      1 2010-02-05        42.31       2.572        NaN        NaN        NaN   \n",
       "1      1 2010-02-12        38.51       2.548        NaN        NaN        NaN   \n",
       "2      1 2010-02-19        39.93       2.514        NaN        NaN        NaN   \n",
       "3      1 2010-02-26        46.63       2.561        NaN        NaN        NaN   \n",
       "4      1 2010-03-05        46.50       2.625        NaN        NaN        NaN   \n",
       "\n",
       "   MarkDown4  MarkDown5         CPI  Unemployment  IsHoliday  \n",
       "0        NaN        NaN  211.096358         8.106      False  \n",
       "1        NaN        NaN  211.242170         8.106       True  \n",
       "2        NaN        NaN  211.289143         8.106      False  \n",
       "3        NaN        NaN  211.319643         8.106      False  \n",
       "4        NaN        NaN  211.350143         8.106      False  "
      ],
      "text/html": [
       "<div>\n",
       "<style scoped>\n",
       "    .dataframe tbody tr th:only-of-type {\n",
       "        vertical-align: middle;\n",
       "    }\n",
       "\n",
       "    .dataframe tbody tr th {\n",
       "        vertical-align: top;\n",
       "    }\n",
       "\n",
       "    .dataframe thead th {\n",
       "        text-align: right;\n",
       "    }\n",
       "</style>\n",
       "<table border=\"1\" class=\"dataframe\">\n",
       "  <thead>\n",
       "    <tr style=\"text-align: right;\">\n",
       "      <th></th>\n",
       "      <th>Store</th>\n",
       "      <th>Date</th>\n",
       "      <th>Temperature</th>\n",
       "      <th>Fuel_Price</th>\n",
       "      <th>MarkDown1</th>\n",
       "      <th>MarkDown2</th>\n",
       "      <th>MarkDown3</th>\n",
       "      <th>MarkDown4</th>\n",
       "      <th>MarkDown5</th>\n",
       "      <th>CPI</th>\n",
       "      <th>Unemployment</th>\n",
       "      <th>IsHoliday</th>\n",
       "    </tr>\n",
       "  </thead>\n",
       "  <tbody>\n",
       "    <tr>\n",
       "      <th>0</th>\n",
       "      <td>1</td>\n",
       "      <td>2010-02-05</td>\n",
       "      <td>42.31</td>\n",
       "      <td>2.572</td>\n",
       "      <td>NaN</td>\n",
       "      <td>NaN</td>\n",
       "      <td>NaN</td>\n",
       "      <td>NaN</td>\n",
       "      <td>NaN</td>\n",
       "      <td>211.096358</td>\n",
       "      <td>8.106</td>\n",
       "      <td>False</td>\n",
       "    </tr>\n",
       "    <tr>\n",
       "      <th>1</th>\n",
       "      <td>1</td>\n",
       "      <td>2010-02-12</td>\n",
       "      <td>38.51</td>\n",
       "      <td>2.548</td>\n",
       "      <td>NaN</td>\n",
       "      <td>NaN</td>\n",
       "      <td>NaN</td>\n",
       "      <td>NaN</td>\n",
       "      <td>NaN</td>\n",
       "      <td>211.242170</td>\n",
       "      <td>8.106</td>\n",
       "      <td>True</td>\n",
       "    </tr>\n",
       "    <tr>\n",
       "      <th>2</th>\n",
       "      <td>1</td>\n",
       "      <td>2010-02-19</td>\n",
       "      <td>39.93</td>\n",
       "      <td>2.514</td>\n",
       "      <td>NaN</td>\n",
       "      <td>NaN</td>\n",
       "      <td>NaN</td>\n",
       "      <td>NaN</td>\n",
       "      <td>NaN</td>\n",
       "      <td>211.289143</td>\n",
       "      <td>8.106</td>\n",
       "      <td>False</td>\n",
       "    </tr>\n",
       "    <tr>\n",
       "      <th>3</th>\n",
       "      <td>1</td>\n",
       "      <td>2010-02-26</td>\n",
       "      <td>46.63</td>\n",
       "      <td>2.561</td>\n",
       "      <td>NaN</td>\n",
       "      <td>NaN</td>\n",
       "      <td>NaN</td>\n",
       "      <td>NaN</td>\n",
       "      <td>NaN</td>\n",
       "      <td>211.319643</td>\n",
       "      <td>8.106</td>\n",
       "      <td>False</td>\n",
       "    </tr>\n",
       "    <tr>\n",
       "      <th>4</th>\n",
       "      <td>1</td>\n",
       "      <td>2010-03-05</td>\n",
       "      <td>46.50</td>\n",
       "      <td>2.625</td>\n",
       "      <td>NaN</td>\n",
       "      <td>NaN</td>\n",
       "      <td>NaN</td>\n",
       "      <td>NaN</td>\n",
       "      <td>NaN</td>\n",
       "      <td>211.350143</td>\n",
       "      <td>8.106</td>\n",
       "      <td>False</td>\n",
       "    </tr>\n",
       "  </tbody>\n",
       "</table>\n",
       "</div>"
      ]
     },
     "execution_count": 80,
     "metadata": {},
     "output_type": "execute_result"
    }
   ],
   "execution_count": 80
  },
  {
   "metadata": {
    "ExecuteTime": {
     "end_time": "2025-02-16T22:07:01.636764Z",
     "start_time": "2025-02-16T22:07:01.631464Z"
    }
   },
   "cell_type": "code",
   "source": "features_df.duplicated().sum()",
   "id": "a43ce5bb68c3ce08",
   "outputs": [
    {
     "data": {
      "text/plain": [
       "np.int64(0)"
      ]
     },
     "execution_count": 81,
     "metadata": {},
     "output_type": "execute_result"
    }
   ],
   "execution_count": 81
  },
  {
   "metadata": {
    "ExecuteTime": {
     "end_time": "2025-02-16T22:07:01.766644Z",
     "start_time": "2025-02-16T22:07:01.761881Z"
    }
   },
   "cell_type": "code",
   "source": "features_df.isna().sum()",
   "id": "de1a163913075713",
   "outputs": [
    {
     "data": {
      "text/plain": [
       "Store              0\n",
       "Date               0\n",
       "Temperature        0\n",
       "Fuel_Price         0\n",
       "MarkDown1       4158\n",
       "MarkDown2       5269\n",
       "MarkDown3       4577\n",
       "MarkDown4       4726\n",
       "MarkDown5       4140\n",
       "CPI              585\n",
       "Unemployment     585\n",
       "IsHoliday          0\n",
       "dtype: int64"
      ]
     },
     "execution_count": 82,
     "metadata": {},
     "output_type": "execute_result"
    }
   ],
   "execution_count": 82
  },
  {
   "metadata": {
    "ExecuteTime": {
     "end_time": "2025-02-16T22:07:01.866784Z",
     "start_time": "2025-02-16T22:07:01.862735Z"
    }
   },
   "cell_type": "code",
   "source": "features_df.isnull().sum()",
   "id": "22f1fcd52b818e18",
   "outputs": [
    {
     "data": {
      "text/plain": [
       "Store              0\n",
       "Date               0\n",
       "Temperature        0\n",
       "Fuel_Price         0\n",
       "MarkDown1       4158\n",
       "MarkDown2       5269\n",
       "MarkDown3       4577\n",
       "MarkDown4       4726\n",
       "MarkDown5       4140\n",
       "CPI              585\n",
       "Unemployment     585\n",
       "IsHoliday          0\n",
       "dtype: int64"
      ]
     },
     "execution_count": 83,
     "metadata": {},
     "output_type": "execute_result"
    }
   ],
   "execution_count": 83
  },
  {
   "metadata": {
    "ExecuteTime": {
     "end_time": "2025-02-16T22:07:02.068858Z",
     "start_time": "2025-02-16T22:07:02.065394Z"
    }
   },
   "cell_type": "code",
   "source": "",
   "id": "e815d6641f696625",
   "outputs": [],
   "execution_count": null
  },
  {
   "metadata": {},
   "cell_type": "markdown",
   "source": [
    "#### Here is the quick analysis of the CPI column and markdown columns of the features dataframe (feature file)\n",
    "\n",
    "When I look into this  site https://www.ssa.gov/oact/STATS/avgcpi.html i see the real CPI range for this whole period was between 212 to 232 which is contrary to what we are seeing in data. The max is looking good but min is 126 and mean is 172 which may be due to incorrect data but the same needs to be looked into when doing CPI and inflation related analysis.\n",
    "\n",
    "From the features dataframe we see that Markdown data is very limited and there are lots of missing data Out of the total 8190 rows we see between 4000 an 5300 missing data which is not good. So may have to drop that for initial analysis and only if specific analysis is needed later on we will revisit it.\n",
    "\n",
    "There are no duplicates but there are null values which will need cleanup "
   ],
   "id": "cc241176a2200e83"
  },
  {
   "metadata": {},
   "cell_type": "markdown",
   "source": "#### Lets cleanup the features data(features_df) which was in features.csv file",
   "id": "df8ced67ed49cff2"
  },
  {
   "metadata": {},
   "cell_type": "markdown",
   "source": [
    "Lets impute the CPI figure by year is if for the year 2010 the CPI is below a threshold we will replace it by BLS average of the CPI for that year . The threshold used  is whatever the CPI minimum CPI value in the 3 months preceding replace with the annual CPI average:\n",
    "\n",
    "The threshold value we will use at which we will start imputing is 211 as the value for CPI six months before the first value is higher than 211. TIll 213 it was never more than 229 \n",
    "\n",
    "2010: average CPI - impute with 213.967  , if below 214 for 2011 with 221.575 , if below 222 with 226.229  and for 213 impute with 229.324\n"
   ],
   "id": "ec1edf750d0d3a1e"
  },
  {
   "metadata": {
    "ExecuteTime": {
     "end_time": "2025-02-16T22:07:02.178835Z",
     "start_time": "2025-02-16T22:07:02.174019Z"
    }
   },
   "cell_type": "code",
   "source": "features_df.info()\n",
   "id": "9a081f91a68eb6ab",
   "outputs": [
    {
     "name": "stdout",
     "output_type": "stream",
     "text": [
      "<class 'pandas.core.frame.DataFrame'>\n",
      "RangeIndex: 8190 entries, 0 to 8189\n",
      "Data columns (total 12 columns):\n",
      " #   Column        Non-Null Count  Dtype         \n",
      "---  ------        --------------  -----         \n",
      " 0   Store         8190 non-null   int64         \n",
      " 1   Date          8190 non-null   datetime64[ns]\n",
      " 2   Temperature   8190 non-null   float64       \n",
      " 3   Fuel_Price    8190 non-null   float64       \n",
      " 4   MarkDown1     4032 non-null   float64       \n",
      " 5   MarkDown2     2921 non-null   float64       \n",
      " 6   MarkDown3     3613 non-null   float64       \n",
      " 7   MarkDown4     3464 non-null   float64       \n",
      " 8   MarkDown5     4050 non-null   float64       \n",
      " 9   CPI           7605 non-null   float64       \n",
      " 10  Unemployment  7605 non-null   float64       \n",
      " 11  IsHoliday     8190 non-null   bool          \n",
      "dtypes: bool(1), datetime64[ns](1), float64(9), int64(1)\n",
      "memory usage: 712.0 KB\n"
     ]
    }
   ],
   "execution_count": 84
  },
  {
   "metadata": {
    "ExecuteTime": {
     "end_time": "2025-02-16T22:07:02.366266Z",
     "start_time": "2025-02-16T22:07:02.306315Z"
    }
   },
   "cell_type": "code",
   "source": [
    "\n",
    "# impute function  to replace CPI values the return value is 1 less of the average CPI for the year as the CPI is increasing trend \n",
    "def impute_cpi_value(feature_row):\n",
    "    if feature_row['Date'].year == 2010 and feature_row['CPI'] <= 211:\n",
    "        return (213.967 - 1)\n",
    "    elif feature_row['Date'].year == 2011 and feature_row['CPI'] <= 214:\n",
    "        return (221.575 - 1)\n",
    "    elif feature_row['Date'].year == 2012 and feature_row['CPI'] <= 222:\n",
    "        return (226.229-1)\n",
    "    elif feature_row['Date'].year == 2013 and feature_row['CPI'] <= 226:\n",
    "        return (229.324- 1)\n",
    "    else:\n",
    "        return feature_row['CPI']\n",
    "\n",
    "# impute the  value of CPI  in the features dataframe for the values which look out of range compared to BLS data\n",
    "features_df['CPI'] = features_df.apply(impute_cpi_value, axis=1)\n",
    "\n"
   ],
   "id": "7d9d78d765c085bf",
   "outputs": [],
   "execution_count": 85
  },
  {
   "metadata": {
    "ExecuteTime": {
     "end_time": "2025-02-16T22:07:02.416434Z",
     "start_time": "2025-02-16T22:07:02.386873Z"
    }
   },
   "cell_type": "code",
   "source": "features_df.describe()",
   "id": "65310c4d825ae605",
   "outputs": [
    {
     "data": {
      "text/plain": [
       "             Store                 Date  Temperature   Fuel_Price  \\\n",
       "count  8190.000000                 8190  8190.000000  8190.000000   \n",
       "mean     23.000000  2011-10-31 12:00:00    59.356198     3.405992   \n",
       "min       1.000000  2010-02-05 00:00:00    -7.290000     2.472000   \n",
       "25%      12.000000  2010-12-17 00:00:00    45.902500     3.041000   \n",
       "50%      23.000000  2011-10-31 12:00:00    60.710000     3.513000   \n",
       "75%      34.000000  2012-09-14 00:00:00    73.880000     3.743000   \n",
       "max      45.000000  2013-07-26 00:00:00   101.950000     4.468000   \n",
       "std      12.987966                  NaN    18.678607     0.431337   \n",
       "\n",
       "           MarkDown1      MarkDown2      MarkDown3     MarkDown4  \\\n",
       "count    4032.000000    2921.000000    3613.000000   3464.000000   \n",
       "mean     7032.371786    3384.176594    1760.100180   3292.935886   \n",
       "min     -2781.450000    -265.760000    -179.260000      0.220000   \n",
       "25%      1577.532500      68.880000       6.600000    304.687500   \n",
       "50%      4743.580000     364.570000      36.260000   1176.425000   \n",
       "75%      8923.310000    2153.350000     163.150000   3310.007500   \n",
       "max    103184.980000  104519.540000  149483.310000  67474.850000   \n",
       "std      9262.747448    8793.583016   11276.462208   6792.329861   \n",
       "\n",
       "           MarkDown5          CPI  Unemployment  \n",
       "count    4050.000000  7605.000000   7605.000000  \n",
       "mean     4132.216422   220.301638      7.826821  \n",
       "min      -185.170000   211.006754      3.684000  \n",
       "25%      1440.827500   212.967000      6.634000  \n",
       "50%      2727.135000   220.575000      7.806000  \n",
       "75%      4832.555000   225.229000      8.567000  \n",
       "max    771448.100000   228.976456     14.313000  \n",
       "std     13086.690278     5.493888      1.877259  "
      ],
      "text/html": [
       "<div>\n",
       "<style scoped>\n",
       "    .dataframe tbody tr th:only-of-type {\n",
       "        vertical-align: middle;\n",
       "    }\n",
       "\n",
       "    .dataframe tbody tr th {\n",
       "        vertical-align: top;\n",
       "    }\n",
       "\n",
       "    .dataframe thead th {\n",
       "        text-align: right;\n",
       "    }\n",
       "</style>\n",
       "<table border=\"1\" class=\"dataframe\">\n",
       "  <thead>\n",
       "    <tr style=\"text-align: right;\">\n",
       "      <th></th>\n",
       "      <th>Store</th>\n",
       "      <th>Date</th>\n",
       "      <th>Temperature</th>\n",
       "      <th>Fuel_Price</th>\n",
       "      <th>MarkDown1</th>\n",
       "      <th>MarkDown2</th>\n",
       "      <th>MarkDown3</th>\n",
       "      <th>MarkDown4</th>\n",
       "      <th>MarkDown5</th>\n",
       "      <th>CPI</th>\n",
       "      <th>Unemployment</th>\n",
       "    </tr>\n",
       "  </thead>\n",
       "  <tbody>\n",
       "    <tr>\n",
       "      <th>count</th>\n",
       "      <td>8190.000000</td>\n",
       "      <td>8190</td>\n",
       "      <td>8190.000000</td>\n",
       "      <td>8190.000000</td>\n",
       "      <td>4032.000000</td>\n",
       "      <td>2921.000000</td>\n",
       "      <td>3613.000000</td>\n",
       "      <td>3464.000000</td>\n",
       "      <td>4050.000000</td>\n",
       "      <td>7605.000000</td>\n",
       "      <td>7605.000000</td>\n",
       "    </tr>\n",
       "    <tr>\n",
       "      <th>mean</th>\n",
       "      <td>23.000000</td>\n",
       "      <td>2011-10-31 12:00:00</td>\n",
       "      <td>59.356198</td>\n",
       "      <td>3.405992</td>\n",
       "      <td>7032.371786</td>\n",
       "      <td>3384.176594</td>\n",
       "      <td>1760.100180</td>\n",
       "      <td>3292.935886</td>\n",
       "      <td>4132.216422</td>\n",
       "      <td>220.301638</td>\n",
       "      <td>7.826821</td>\n",
       "    </tr>\n",
       "    <tr>\n",
       "      <th>min</th>\n",
       "      <td>1.000000</td>\n",
       "      <td>2010-02-05 00:00:00</td>\n",
       "      <td>-7.290000</td>\n",
       "      <td>2.472000</td>\n",
       "      <td>-2781.450000</td>\n",
       "      <td>-265.760000</td>\n",
       "      <td>-179.260000</td>\n",
       "      <td>0.220000</td>\n",
       "      <td>-185.170000</td>\n",
       "      <td>211.006754</td>\n",
       "      <td>3.684000</td>\n",
       "    </tr>\n",
       "    <tr>\n",
       "      <th>25%</th>\n",
       "      <td>12.000000</td>\n",
       "      <td>2010-12-17 00:00:00</td>\n",
       "      <td>45.902500</td>\n",
       "      <td>3.041000</td>\n",
       "      <td>1577.532500</td>\n",
       "      <td>68.880000</td>\n",
       "      <td>6.600000</td>\n",
       "      <td>304.687500</td>\n",
       "      <td>1440.827500</td>\n",
       "      <td>212.967000</td>\n",
       "      <td>6.634000</td>\n",
       "    </tr>\n",
       "    <tr>\n",
       "      <th>50%</th>\n",
       "      <td>23.000000</td>\n",
       "      <td>2011-10-31 12:00:00</td>\n",
       "      <td>60.710000</td>\n",
       "      <td>3.513000</td>\n",
       "      <td>4743.580000</td>\n",
       "      <td>364.570000</td>\n",
       "      <td>36.260000</td>\n",
       "      <td>1176.425000</td>\n",
       "      <td>2727.135000</td>\n",
       "      <td>220.575000</td>\n",
       "      <td>7.806000</td>\n",
       "    </tr>\n",
       "    <tr>\n",
       "      <th>75%</th>\n",
       "      <td>34.000000</td>\n",
       "      <td>2012-09-14 00:00:00</td>\n",
       "      <td>73.880000</td>\n",
       "      <td>3.743000</td>\n",
       "      <td>8923.310000</td>\n",
       "      <td>2153.350000</td>\n",
       "      <td>163.150000</td>\n",
       "      <td>3310.007500</td>\n",
       "      <td>4832.555000</td>\n",
       "      <td>225.229000</td>\n",
       "      <td>8.567000</td>\n",
       "    </tr>\n",
       "    <tr>\n",
       "      <th>max</th>\n",
       "      <td>45.000000</td>\n",
       "      <td>2013-07-26 00:00:00</td>\n",
       "      <td>101.950000</td>\n",
       "      <td>4.468000</td>\n",
       "      <td>103184.980000</td>\n",
       "      <td>104519.540000</td>\n",
       "      <td>149483.310000</td>\n",
       "      <td>67474.850000</td>\n",
       "      <td>771448.100000</td>\n",
       "      <td>228.976456</td>\n",
       "      <td>14.313000</td>\n",
       "    </tr>\n",
       "    <tr>\n",
       "      <th>std</th>\n",
       "      <td>12.987966</td>\n",
       "      <td>NaN</td>\n",
       "      <td>18.678607</td>\n",
       "      <td>0.431337</td>\n",
       "      <td>9262.747448</td>\n",
       "      <td>8793.583016</td>\n",
       "      <td>11276.462208</td>\n",
       "      <td>6792.329861</td>\n",
       "      <td>13086.690278</td>\n",
       "      <td>5.493888</td>\n",
       "      <td>1.877259</td>\n",
       "    </tr>\n",
       "  </tbody>\n",
       "</table>\n",
       "</div>"
      ]
     },
     "execution_count": 86,
     "metadata": {},
     "output_type": "execute_result"
    }
   ],
   "execution_count": 86
  },
  {
   "metadata": {
    "ExecuteTime": {
     "end_time": "2025-02-16T22:07:02.480653Z",
     "start_time": "2025-02-16T22:07:02.473252Z"
    }
   },
   "cell_type": "code",
   "source": "features_df[\"Date\"].describe([1/3,2/3])",
   "id": "bd59f5c637072e96",
   "outputs": [
    {
     "data": {
      "text/plain": [
       "count                   8190\n",
       "mean     2011-10-31 12:00:00\n",
       "min      2010-02-05 00:00:00\n",
       "33.3%    2011-04-01 00:00:00\n",
       "50%      2011-10-31 12:00:00\n",
       "66.7%    2012-06-01 00:00:00\n",
       "max      2013-07-26 00:00:00\n",
       "Name: Date, dtype: object"
      ]
     },
     "execution_count": 87,
     "metadata": {},
     "output_type": "execute_result"
    }
   ],
   "execution_count": 87
  },
  {
   "metadata": {},
   "cell_type": "markdown",
   "source": [
    "We see the features_df has dates which are beyond the last date of sales data so we will take care of it while joining so we can work with intersection of the dates\n",
    "Once we join then we will look into cleaning up null data which we will find in Markdowns, CPI and Unemployment rate data. I dont want to clean it now as that will create a smaller intersection of sales data and hurt my analysis, so will do it after joining the dataframes and will create  multiple dataframes ie one for sales analysis ,  one for markdown analysis and one for analysis of sales dependency CPI and unemployment  "
   ],
   "id": "8c9eafa75a32b79f"
  },
  {
   "metadata": {},
   "cell_type": "markdown",
   "source": "### As mentioned earlier the sales_df and store_df data looks clean and we dont need to do any cleaning only feature dataframe is what we will need to when needed ",
   "id": "fe7725529607f8df"
  },
  {
   "metadata": {},
   "cell_type": "markdown",
   "source": "### let us merge the Sales_df to the Store_df based on Store column name",
   "id": "195a28431a27e387"
  },
  {
   "metadata": {
    "ExecuteTime": {
     "end_time": "2025-02-16T22:07:02.580748Z",
     "start_time": "2025-02-16T22:07:02.557756Z"
    }
   },
   "cell_type": "code",
   "source": [
    "sales_stores_df = pd.merge(\n",
    "    sales_df, \n",
    "    stores_df, \n",
    "    how='left',\n",
    "    on='Store'\n",
    ")\n"
   ],
   "id": "4955cd8f11433dbc",
   "outputs": [],
   "execution_count": 88
  },
  {
   "metadata": {
    "ExecuteTime": {
     "end_time": "2025-02-16T22:07:02.712143Z",
     "start_time": "2025-02-16T22:07:02.668175Z"
    }
   },
   "cell_type": "code",
   "source": "sales_stores_df.describe()",
   "id": "cfb4c6ecd34457ce",
   "outputs": [
    {
     "data": {
      "text/plain": [
       "               Store           Dept                           Date  \\\n",
       "count  421570.000000  421570.000000                         421570   \n",
       "mean       22.200546      44.260317  2011-06-18 08:30:31.963375104   \n",
       "min         1.000000       1.000000            2010-02-05 00:00:00   \n",
       "25%        11.000000      18.000000            2010-10-08 00:00:00   \n",
       "50%        22.000000      37.000000            2011-06-17 00:00:00   \n",
       "75%        33.000000      74.000000            2012-02-24 00:00:00   \n",
       "max        45.000000      99.000000            2012-10-26 00:00:00   \n",
       "std        12.785297      30.492054                            NaN   \n",
       "\n",
       "        Weekly_Sales           Size  \n",
       "count  421570.000000  421570.000000  \n",
       "mean    15981.258123  136727.915739  \n",
       "min     -4988.940000   34875.000000  \n",
       "25%      2079.650000   93638.000000  \n",
       "50%      7612.030000  140167.000000  \n",
       "75%     20205.852500  202505.000000  \n",
       "max    693099.360000  219622.000000  \n",
       "std     22711.183519   60980.583328  "
      ],
      "text/html": [
       "<div>\n",
       "<style scoped>\n",
       "    .dataframe tbody tr th:only-of-type {\n",
       "        vertical-align: middle;\n",
       "    }\n",
       "\n",
       "    .dataframe tbody tr th {\n",
       "        vertical-align: top;\n",
       "    }\n",
       "\n",
       "    .dataframe thead th {\n",
       "        text-align: right;\n",
       "    }\n",
       "</style>\n",
       "<table border=\"1\" class=\"dataframe\">\n",
       "  <thead>\n",
       "    <tr style=\"text-align: right;\">\n",
       "      <th></th>\n",
       "      <th>Store</th>\n",
       "      <th>Dept</th>\n",
       "      <th>Date</th>\n",
       "      <th>Weekly_Sales</th>\n",
       "      <th>Size</th>\n",
       "    </tr>\n",
       "  </thead>\n",
       "  <tbody>\n",
       "    <tr>\n",
       "      <th>count</th>\n",
       "      <td>421570.000000</td>\n",
       "      <td>421570.000000</td>\n",
       "      <td>421570</td>\n",
       "      <td>421570.000000</td>\n",
       "      <td>421570.000000</td>\n",
       "    </tr>\n",
       "    <tr>\n",
       "      <th>mean</th>\n",
       "      <td>22.200546</td>\n",
       "      <td>44.260317</td>\n",
       "      <td>2011-06-18 08:30:31.963375104</td>\n",
       "      <td>15981.258123</td>\n",
       "      <td>136727.915739</td>\n",
       "    </tr>\n",
       "    <tr>\n",
       "      <th>min</th>\n",
       "      <td>1.000000</td>\n",
       "      <td>1.000000</td>\n",
       "      <td>2010-02-05 00:00:00</td>\n",
       "      <td>-4988.940000</td>\n",
       "      <td>34875.000000</td>\n",
       "    </tr>\n",
       "    <tr>\n",
       "      <th>25%</th>\n",
       "      <td>11.000000</td>\n",
       "      <td>18.000000</td>\n",
       "      <td>2010-10-08 00:00:00</td>\n",
       "      <td>2079.650000</td>\n",
       "      <td>93638.000000</td>\n",
       "    </tr>\n",
       "    <tr>\n",
       "      <th>50%</th>\n",
       "      <td>22.000000</td>\n",
       "      <td>37.000000</td>\n",
       "      <td>2011-06-17 00:00:00</td>\n",
       "      <td>7612.030000</td>\n",
       "      <td>140167.000000</td>\n",
       "    </tr>\n",
       "    <tr>\n",
       "      <th>75%</th>\n",
       "      <td>33.000000</td>\n",
       "      <td>74.000000</td>\n",
       "      <td>2012-02-24 00:00:00</td>\n",
       "      <td>20205.852500</td>\n",
       "      <td>202505.000000</td>\n",
       "    </tr>\n",
       "    <tr>\n",
       "      <th>max</th>\n",
       "      <td>45.000000</td>\n",
       "      <td>99.000000</td>\n",
       "      <td>2012-10-26 00:00:00</td>\n",
       "      <td>693099.360000</td>\n",
       "      <td>219622.000000</td>\n",
       "    </tr>\n",
       "    <tr>\n",
       "      <th>std</th>\n",
       "      <td>12.785297</td>\n",
       "      <td>30.492054</td>\n",
       "      <td>NaN</td>\n",
       "      <td>22711.183519</td>\n",
       "      <td>60980.583328</td>\n",
       "    </tr>\n",
       "  </tbody>\n",
       "</table>\n",
       "</div>"
      ]
     },
     "execution_count": 89,
     "metadata": {},
     "output_type": "execute_result"
    }
   ],
   "execution_count": 89
  },
  {
   "metadata": {
    "ExecuteTime": {
     "end_time": "2025-02-16T22:07:02.806130Z",
     "start_time": "2025-02-16T22:07:02.795946Z"
    }
   },
   "cell_type": "code",
   "source": "sales_stores_df.info()",
   "id": "bd43db8765338844",
   "outputs": [
    {
     "name": "stdout",
     "output_type": "stream",
     "text": [
      "<class 'pandas.core.frame.DataFrame'>\n",
      "RangeIndex: 421570 entries, 0 to 421569\n",
      "Data columns (total 9 columns):\n",
      " #   Column        Non-Null Count   Dtype         \n",
      "---  ------        --------------   -----         \n",
      " 0   Store         421570 non-null  int64         \n",
      " 1   Dept          421570 non-null  int64         \n",
      " 2   Date          421570 non-null  datetime64[ns]\n",
      " 3   Weekly_Sales  421570 non-null  float64       \n",
      " 4   IsHoliday     421570 non-null  bool          \n",
      " 5   Size          421570 non-null  int64         \n",
      " 6   Store_Type_A  421570 non-null  bool          \n",
      " 7   Store_Type_B  421570 non-null  bool          \n",
      " 8   Store_Type_C  421570 non-null  bool          \n",
      "dtypes: bool(4), datetime64[ns](1), float64(1), int64(3)\n",
      "memory usage: 17.7 MB\n"
     ]
    }
   ],
   "execution_count": 90
  },
  {
   "metadata": {},
   "cell_type": "markdown",
   "source": "#### Now we will merge the features dataframe with the above dataframe to get the final dataframe. We are doing left join as we want to keep all the sales data and not lose any data but discard the features data which spans beyond the last available sales data  ",
   "id": "b5263dd03d412025"
  },
  {
   "metadata": {
    "ExecuteTime": {
     "end_time": "2025-02-16T22:07:03.000986Z",
     "start_time": "2025-02-16T22:07:02.885878Z"
    }
   },
   "cell_type": "code",
   "source": [
    "final_df = pd.merge(\n",
    "    sales_stores_df,\n",
    "    features_df,\n",
    "    how='left',\n",
    "    on=['Store', 'Date']\n",
    ")"
   ],
   "id": "2ac47e57153e7dde",
   "outputs": [],
   "execution_count": 91
  },
  {
   "metadata": {
    "ExecuteTime": {
     "end_time": "2025-02-16T22:07:03.202244Z",
     "start_time": "2025-02-16T22:07:03.048547Z"
    }
   },
   "cell_type": "code",
   "source": "final_df.describe()",
   "id": "4023dc7dcd32d36b",
   "outputs": [
    {
     "data": {
      "text/plain": [
       "               Store           Dept                           Date  \\\n",
       "count  421570.000000  421570.000000                         421570   \n",
       "mean       22.200546      44.260317  2011-06-18 08:30:31.963375104   \n",
       "min         1.000000       1.000000            2010-02-05 00:00:00   \n",
       "25%        11.000000      18.000000            2010-10-08 00:00:00   \n",
       "50%        22.000000      37.000000            2011-06-17 00:00:00   \n",
       "75%        33.000000      74.000000            2012-02-24 00:00:00   \n",
       "max        45.000000      99.000000            2012-10-26 00:00:00   \n",
       "std        12.785297      30.492054                            NaN   \n",
       "\n",
       "        Weekly_Sales           Size    Temperature     Fuel_Price  \\\n",
       "count  421570.000000  421570.000000  421570.000000  421570.000000   \n",
       "mean    15981.258123  136727.915739      60.090059       3.361027   \n",
       "min     -4988.940000   34875.000000      -2.060000       2.472000   \n",
       "25%      2079.650000   93638.000000      46.680000       2.933000   \n",
       "50%      7612.030000  140167.000000      62.090000       3.452000   \n",
       "75%     20205.852500  202505.000000      74.280000       3.738000   \n",
       "max    693099.360000  219622.000000     100.140000       4.468000   \n",
       "std     22711.183519   60980.583328      18.447931       0.458515   \n",
       "\n",
       "           MarkDown1      MarkDown2      MarkDown3      MarkDown4  \\\n",
       "count  150681.000000  111248.000000  137091.000000  134967.000000   \n",
       "mean     7246.420196    3334.628621    1439.421384    3383.168256   \n",
       "min         0.270000    -265.760000     -29.100000       0.220000   \n",
       "25%      2240.270000      41.600000       5.080000     504.220000   \n",
       "50%      5347.450000     192.000000      24.600000    1481.310000   \n",
       "75%      9210.900000    1926.940000     103.990000    3595.040000   \n",
       "max     88646.760000  104519.540000  141630.610000   67474.850000   \n",
       "std      8291.221345    9475.357325    9623.078290    6292.384031   \n",
       "\n",
       "           MarkDown5            CPI   Unemployment  \n",
       "count  151432.000000  421570.000000  421570.000000  \n",
       "mean     4628.975079     219.089564       7.960289  \n",
       "min       135.160000     211.006754       3.879000  \n",
       "25%      1878.440000     212.967000       6.891000  \n",
       "50%      3359.450000     220.575000       7.866000  \n",
       "75%      5563.800000     225.229000       8.572000  \n",
       "max    108519.280000     227.232807      14.313000  \n",
       "std      5962.887455       5.001438       1.863296  "
      ],
      "text/html": [
       "<div>\n",
       "<style scoped>\n",
       "    .dataframe tbody tr th:only-of-type {\n",
       "        vertical-align: middle;\n",
       "    }\n",
       "\n",
       "    .dataframe tbody tr th {\n",
       "        vertical-align: top;\n",
       "    }\n",
       "\n",
       "    .dataframe thead th {\n",
       "        text-align: right;\n",
       "    }\n",
       "</style>\n",
       "<table border=\"1\" class=\"dataframe\">\n",
       "  <thead>\n",
       "    <tr style=\"text-align: right;\">\n",
       "      <th></th>\n",
       "      <th>Store</th>\n",
       "      <th>Dept</th>\n",
       "      <th>Date</th>\n",
       "      <th>Weekly_Sales</th>\n",
       "      <th>Size</th>\n",
       "      <th>Temperature</th>\n",
       "      <th>Fuel_Price</th>\n",
       "      <th>MarkDown1</th>\n",
       "      <th>MarkDown2</th>\n",
       "      <th>MarkDown3</th>\n",
       "      <th>MarkDown4</th>\n",
       "      <th>MarkDown5</th>\n",
       "      <th>CPI</th>\n",
       "      <th>Unemployment</th>\n",
       "    </tr>\n",
       "  </thead>\n",
       "  <tbody>\n",
       "    <tr>\n",
       "      <th>count</th>\n",
       "      <td>421570.000000</td>\n",
       "      <td>421570.000000</td>\n",
       "      <td>421570</td>\n",
       "      <td>421570.000000</td>\n",
       "      <td>421570.000000</td>\n",
       "      <td>421570.000000</td>\n",
       "      <td>421570.000000</td>\n",
       "      <td>150681.000000</td>\n",
       "      <td>111248.000000</td>\n",
       "      <td>137091.000000</td>\n",
       "      <td>134967.000000</td>\n",
       "      <td>151432.000000</td>\n",
       "      <td>421570.000000</td>\n",
       "      <td>421570.000000</td>\n",
       "    </tr>\n",
       "    <tr>\n",
       "      <th>mean</th>\n",
       "      <td>22.200546</td>\n",
       "      <td>44.260317</td>\n",
       "      <td>2011-06-18 08:30:31.963375104</td>\n",
       "      <td>15981.258123</td>\n",
       "      <td>136727.915739</td>\n",
       "      <td>60.090059</td>\n",
       "      <td>3.361027</td>\n",
       "      <td>7246.420196</td>\n",
       "      <td>3334.628621</td>\n",
       "      <td>1439.421384</td>\n",
       "      <td>3383.168256</td>\n",
       "      <td>4628.975079</td>\n",
       "      <td>219.089564</td>\n",
       "      <td>7.960289</td>\n",
       "    </tr>\n",
       "    <tr>\n",
       "      <th>min</th>\n",
       "      <td>1.000000</td>\n",
       "      <td>1.000000</td>\n",
       "      <td>2010-02-05 00:00:00</td>\n",
       "      <td>-4988.940000</td>\n",
       "      <td>34875.000000</td>\n",
       "      <td>-2.060000</td>\n",
       "      <td>2.472000</td>\n",
       "      <td>0.270000</td>\n",
       "      <td>-265.760000</td>\n",
       "      <td>-29.100000</td>\n",
       "      <td>0.220000</td>\n",
       "      <td>135.160000</td>\n",
       "      <td>211.006754</td>\n",
       "      <td>3.879000</td>\n",
       "    </tr>\n",
       "    <tr>\n",
       "      <th>25%</th>\n",
       "      <td>11.000000</td>\n",
       "      <td>18.000000</td>\n",
       "      <td>2010-10-08 00:00:00</td>\n",
       "      <td>2079.650000</td>\n",
       "      <td>93638.000000</td>\n",
       "      <td>46.680000</td>\n",
       "      <td>2.933000</td>\n",
       "      <td>2240.270000</td>\n",
       "      <td>41.600000</td>\n",
       "      <td>5.080000</td>\n",
       "      <td>504.220000</td>\n",
       "      <td>1878.440000</td>\n",
       "      <td>212.967000</td>\n",
       "      <td>6.891000</td>\n",
       "    </tr>\n",
       "    <tr>\n",
       "      <th>50%</th>\n",
       "      <td>22.000000</td>\n",
       "      <td>37.000000</td>\n",
       "      <td>2011-06-17 00:00:00</td>\n",
       "      <td>7612.030000</td>\n",
       "      <td>140167.000000</td>\n",
       "      <td>62.090000</td>\n",
       "      <td>3.452000</td>\n",
       "      <td>5347.450000</td>\n",
       "      <td>192.000000</td>\n",
       "      <td>24.600000</td>\n",
       "      <td>1481.310000</td>\n",
       "      <td>3359.450000</td>\n",
       "      <td>220.575000</td>\n",
       "      <td>7.866000</td>\n",
       "    </tr>\n",
       "    <tr>\n",
       "      <th>75%</th>\n",
       "      <td>33.000000</td>\n",
       "      <td>74.000000</td>\n",
       "      <td>2012-02-24 00:00:00</td>\n",
       "      <td>20205.852500</td>\n",
       "      <td>202505.000000</td>\n",
       "      <td>74.280000</td>\n",
       "      <td>3.738000</td>\n",
       "      <td>9210.900000</td>\n",
       "      <td>1926.940000</td>\n",
       "      <td>103.990000</td>\n",
       "      <td>3595.040000</td>\n",
       "      <td>5563.800000</td>\n",
       "      <td>225.229000</td>\n",
       "      <td>8.572000</td>\n",
       "    </tr>\n",
       "    <tr>\n",
       "      <th>max</th>\n",
       "      <td>45.000000</td>\n",
       "      <td>99.000000</td>\n",
       "      <td>2012-10-26 00:00:00</td>\n",
       "      <td>693099.360000</td>\n",
       "      <td>219622.000000</td>\n",
       "      <td>100.140000</td>\n",
       "      <td>4.468000</td>\n",
       "      <td>88646.760000</td>\n",
       "      <td>104519.540000</td>\n",
       "      <td>141630.610000</td>\n",
       "      <td>67474.850000</td>\n",
       "      <td>108519.280000</td>\n",
       "      <td>227.232807</td>\n",
       "      <td>14.313000</td>\n",
       "    </tr>\n",
       "    <tr>\n",
       "      <th>std</th>\n",
       "      <td>12.785297</td>\n",
       "      <td>30.492054</td>\n",
       "      <td>NaN</td>\n",
       "      <td>22711.183519</td>\n",
       "      <td>60980.583328</td>\n",
       "      <td>18.447931</td>\n",
       "      <td>0.458515</td>\n",
       "      <td>8291.221345</td>\n",
       "      <td>9475.357325</td>\n",
       "      <td>9623.078290</td>\n",
       "      <td>6292.384031</td>\n",
       "      <td>5962.887455</td>\n",
       "      <td>5.001438</td>\n",
       "      <td>1.863296</td>\n",
       "    </tr>\n",
       "  </tbody>\n",
       "</table>\n",
       "</div>"
      ]
     },
     "execution_count": 92,
     "metadata": {},
     "output_type": "execute_result"
    }
   ],
   "execution_count": 92
  },
  {
   "metadata": {
    "ExecuteTime": {
     "end_time": "2025-02-16T22:07:03.253967Z",
     "start_time": "2025-02-16T22:07:03.244041Z"
    }
   },
   "cell_type": "code",
   "source": "final_df.info()",
   "id": "4c856f15bd64b346",
   "outputs": [
    {
     "name": "stdout",
     "output_type": "stream",
     "text": [
      "<class 'pandas.core.frame.DataFrame'>\n",
      "RangeIndex: 421570 entries, 0 to 421569\n",
      "Data columns (total 19 columns):\n",
      " #   Column        Non-Null Count   Dtype         \n",
      "---  ------        --------------   -----         \n",
      " 0   Store         421570 non-null  int64         \n",
      " 1   Dept          421570 non-null  int64         \n",
      " 2   Date          421570 non-null  datetime64[ns]\n",
      " 3   Weekly_Sales  421570 non-null  float64       \n",
      " 4   IsHoliday_x   421570 non-null  bool          \n",
      " 5   Size          421570 non-null  int64         \n",
      " 6   Store_Type_A  421570 non-null  bool          \n",
      " 7   Store_Type_B  421570 non-null  bool          \n",
      " 8   Store_Type_C  421570 non-null  bool          \n",
      " 9   Temperature   421570 non-null  float64       \n",
      " 10  Fuel_Price    421570 non-null  float64       \n",
      " 11  MarkDown1     150681 non-null  float64       \n",
      " 12  MarkDown2     111248 non-null  float64       \n",
      " 13  MarkDown3     137091 non-null  float64       \n",
      " 14  MarkDown4     134967 non-null  float64       \n",
      " 15  MarkDown5     151432 non-null  float64       \n",
      " 16  CPI           421570 non-null  float64       \n",
      " 17  Unemployment  421570 non-null  float64       \n",
      " 18  IsHoliday_y   421570 non-null  bool          \n",
      "dtypes: bool(5), datetime64[ns](1), float64(10), int64(3)\n",
      "memory usage: 47.0 MB\n"
     ]
    }
   ],
   "execution_count": 93
  },
  {
   "metadata": {},
   "cell_type": "markdown",
   "source": [
    "### Create one additional dataset from the final dataset so as we can use reduced set of rows by dropping na/null for doing specific analysis so as to avoid effect of dropping na values causing issues\n",
    "\n",
    "New Dataset 1 (store_sales_with_markdown ): for doing mark down analysis"
   ],
   "id": "16c23ea4be1910cc"
  },
  {
   "metadata": {
    "ExecuteTime": {
     "end_time": "2025-02-16T22:07:03.371700Z",
     "start_time": "2025-02-16T22:07:03.338651Z"
    }
   },
   "cell_type": "code",
   "source": [
    "sales_with_markdown_df = final_df.copy()\n",
    "sales_with_markdown_df.dropna(subset=['MarkDown1', 'MarkDown2', 'MarkDown3', 'MarkDown4', 'MarkDown5'], inplace=True)"
   ],
   "id": "556cc35f4dd3b166",
   "outputs": [],
   "execution_count": 94
  },
  {
   "metadata": {
    "ExecuteTime": {
     "end_time": "2025-02-16T22:07:03.443257Z",
     "start_time": "2025-02-16T22:07:03.396079Z"
    }
   },
   "cell_type": "code",
   "source": "sales_with_markdown_df.describe()",
   "id": "5abdb27ffdfb0651",
   "outputs": [
    {
     "data": {
      "text/plain": [
       "              Store          Dept                           Date  \\\n",
       "count  97056.000000  97056.000000                          97056   \n",
       "mean      20.239408     44.278746  2012-04-16 11:54:48.427299840   \n",
       "min        1.000000      1.000000            2011-11-11 00:00:00   \n",
       "25%       10.000000     19.000000            2012-01-20 00:00:00   \n",
       "50%       20.000000     37.000000            2012-03-30 00:00:00   \n",
       "75%       29.000000     72.000000            2012-07-20 00:00:00   \n",
       "max       45.000000     99.000000            2012-10-26 00:00:00   \n",
       "std       12.037946     30.119460                            NaN   \n",
       "\n",
       "        Weekly_Sales           Size   Temperature    Fuel_Price     MarkDown1  \\\n",
       "count   97056.000000   97056.000000  97056.000000  97056.000000  97056.000000   \n",
       "mean    17857.195155  155229.302980     57.348331      3.618946   8841.260245   \n",
       "min     -1699.000000   34875.000000      7.460000      3.031000     32.500000   \n",
       "25%      2763.892500  119557.000000     42.750000      3.413000   3600.790000   \n",
       "50%      8622.160000  155083.000000     57.950000      3.630000   6264.180000   \n",
       "75%     22740.542500  203742.000000     72.660000      3.820000  10333.240000   \n",
       "max    630999.190000  219622.000000     95.910000      4.301000  88646.760000   \n",
       "std     24732.104674   51201.162733     18.263734      0.280003   9258.091154   \n",
       "\n",
       "           MarkDown2      MarkDown3     MarkDown4      MarkDown5  \\\n",
       "count   97056.000000   97056.000000  97056.000000   97056.000000   \n",
       "mean     3693.532392    1816.629491   4025.923108    5310.830581   \n",
       "min      -265.760000     -29.100000      0.460000     170.640000   \n",
       "25%        47.550000       5.400000    605.880000    2383.670000   \n",
       "50%       192.000000      30.460000   1739.830000    3864.600000   \n",
       "75%      2551.320000     123.420000   4082.990000    6197.530000   \n",
       "max    104519.540000  141630.610000  67474.850000  108519.280000   \n",
       "std     10058.901796   10989.284083   7173.060535    6535.397883   \n",
       "\n",
       "                CPI  Unemployment  \n",
       "count  97056.000000  97056.000000  \n",
       "mean     224.168040      7.414578  \n",
       "min      216.721737      4.077000  \n",
       "25%      223.965862      6.392000  \n",
       "50%      225.229000      7.280000  \n",
       "75%      225.229000      8.256000  \n",
       "max      227.036936     12.890000  \n",
       "std        1.998846      1.708319  "
      ],
      "text/html": [
       "<div>\n",
       "<style scoped>\n",
       "    .dataframe tbody tr th:only-of-type {\n",
       "        vertical-align: middle;\n",
       "    }\n",
       "\n",
       "    .dataframe tbody tr th {\n",
       "        vertical-align: top;\n",
       "    }\n",
       "\n",
       "    .dataframe thead th {\n",
       "        text-align: right;\n",
       "    }\n",
       "</style>\n",
       "<table border=\"1\" class=\"dataframe\">\n",
       "  <thead>\n",
       "    <tr style=\"text-align: right;\">\n",
       "      <th></th>\n",
       "      <th>Store</th>\n",
       "      <th>Dept</th>\n",
       "      <th>Date</th>\n",
       "      <th>Weekly_Sales</th>\n",
       "      <th>Size</th>\n",
       "      <th>Temperature</th>\n",
       "      <th>Fuel_Price</th>\n",
       "      <th>MarkDown1</th>\n",
       "      <th>MarkDown2</th>\n",
       "      <th>MarkDown3</th>\n",
       "      <th>MarkDown4</th>\n",
       "      <th>MarkDown5</th>\n",
       "      <th>CPI</th>\n",
       "      <th>Unemployment</th>\n",
       "    </tr>\n",
       "  </thead>\n",
       "  <tbody>\n",
       "    <tr>\n",
       "      <th>count</th>\n",
       "      <td>97056.000000</td>\n",
       "      <td>97056.000000</td>\n",
       "      <td>97056</td>\n",
       "      <td>97056.000000</td>\n",
       "      <td>97056.000000</td>\n",
       "      <td>97056.000000</td>\n",
       "      <td>97056.000000</td>\n",
       "      <td>97056.000000</td>\n",
       "      <td>97056.000000</td>\n",
       "      <td>97056.000000</td>\n",
       "      <td>97056.000000</td>\n",
       "      <td>97056.000000</td>\n",
       "      <td>97056.000000</td>\n",
       "      <td>97056.000000</td>\n",
       "    </tr>\n",
       "    <tr>\n",
       "      <th>mean</th>\n",
       "      <td>20.239408</td>\n",
       "      <td>44.278746</td>\n",
       "      <td>2012-04-16 11:54:48.427299840</td>\n",
       "      <td>17857.195155</td>\n",
       "      <td>155229.302980</td>\n",
       "      <td>57.348331</td>\n",
       "      <td>3.618946</td>\n",
       "      <td>8841.260245</td>\n",
       "      <td>3693.532392</td>\n",
       "      <td>1816.629491</td>\n",
       "      <td>4025.923108</td>\n",
       "      <td>5310.830581</td>\n",
       "      <td>224.168040</td>\n",
       "      <td>7.414578</td>\n",
       "    </tr>\n",
       "    <tr>\n",
       "      <th>min</th>\n",
       "      <td>1.000000</td>\n",
       "      <td>1.000000</td>\n",
       "      <td>2011-11-11 00:00:00</td>\n",
       "      <td>-1699.000000</td>\n",
       "      <td>34875.000000</td>\n",
       "      <td>7.460000</td>\n",
       "      <td>3.031000</td>\n",
       "      <td>32.500000</td>\n",
       "      <td>-265.760000</td>\n",
       "      <td>-29.100000</td>\n",
       "      <td>0.460000</td>\n",
       "      <td>170.640000</td>\n",
       "      <td>216.721737</td>\n",
       "      <td>4.077000</td>\n",
       "    </tr>\n",
       "    <tr>\n",
       "      <th>25%</th>\n",
       "      <td>10.000000</td>\n",
       "      <td>19.000000</td>\n",
       "      <td>2012-01-20 00:00:00</td>\n",
       "      <td>2763.892500</td>\n",
       "      <td>119557.000000</td>\n",
       "      <td>42.750000</td>\n",
       "      <td>3.413000</td>\n",
       "      <td>3600.790000</td>\n",
       "      <td>47.550000</td>\n",
       "      <td>5.400000</td>\n",
       "      <td>605.880000</td>\n",
       "      <td>2383.670000</td>\n",
       "      <td>223.965862</td>\n",
       "      <td>6.392000</td>\n",
       "    </tr>\n",
       "    <tr>\n",
       "      <th>50%</th>\n",
       "      <td>20.000000</td>\n",
       "      <td>37.000000</td>\n",
       "      <td>2012-03-30 00:00:00</td>\n",
       "      <td>8622.160000</td>\n",
       "      <td>155083.000000</td>\n",
       "      <td>57.950000</td>\n",
       "      <td>3.630000</td>\n",
       "      <td>6264.180000</td>\n",
       "      <td>192.000000</td>\n",
       "      <td>30.460000</td>\n",
       "      <td>1739.830000</td>\n",
       "      <td>3864.600000</td>\n",
       "      <td>225.229000</td>\n",
       "      <td>7.280000</td>\n",
       "    </tr>\n",
       "    <tr>\n",
       "      <th>75%</th>\n",
       "      <td>29.000000</td>\n",
       "      <td>72.000000</td>\n",
       "      <td>2012-07-20 00:00:00</td>\n",
       "      <td>22740.542500</td>\n",
       "      <td>203742.000000</td>\n",
       "      <td>72.660000</td>\n",
       "      <td>3.820000</td>\n",
       "      <td>10333.240000</td>\n",
       "      <td>2551.320000</td>\n",
       "      <td>123.420000</td>\n",
       "      <td>4082.990000</td>\n",
       "      <td>6197.530000</td>\n",
       "      <td>225.229000</td>\n",
       "      <td>8.256000</td>\n",
       "    </tr>\n",
       "    <tr>\n",
       "      <th>max</th>\n",
       "      <td>45.000000</td>\n",
       "      <td>99.000000</td>\n",
       "      <td>2012-10-26 00:00:00</td>\n",
       "      <td>630999.190000</td>\n",
       "      <td>219622.000000</td>\n",
       "      <td>95.910000</td>\n",
       "      <td>4.301000</td>\n",
       "      <td>88646.760000</td>\n",
       "      <td>104519.540000</td>\n",
       "      <td>141630.610000</td>\n",
       "      <td>67474.850000</td>\n",
       "      <td>108519.280000</td>\n",
       "      <td>227.036936</td>\n",
       "      <td>12.890000</td>\n",
       "    </tr>\n",
       "    <tr>\n",
       "      <th>std</th>\n",
       "      <td>12.037946</td>\n",
       "      <td>30.119460</td>\n",
       "      <td>NaN</td>\n",
       "      <td>24732.104674</td>\n",
       "      <td>51201.162733</td>\n",
       "      <td>18.263734</td>\n",
       "      <td>0.280003</td>\n",
       "      <td>9258.091154</td>\n",
       "      <td>10058.901796</td>\n",
       "      <td>10989.284083</td>\n",
       "      <td>7173.060535</td>\n",
       "      <td>6535.397883</td>\n",
       "      <td>1.998846</td>\n",
       "      <td>1.708319</td>\n",
       "    </tr>\n",
       "  </tbody>\n",
       "</table>\n",
       "</div>"
      ]
     },
     "execution_count": 95,
     "metadata": {},
     "output_type": "execute_result"
    }
   ],
   "execution_count": 95
  },
  {
   "metadata": {
    "ExecuteTime": {
     "end_time": "2025-02-16T22:07:03.506813Z",
     "start_time": "2025-02-16T22:07:03.478182Z"
    }
   },
   "cell_type": "code",
   "source": [
    "sales_with_markdown_df = sales_with_markdown_df[sales_with_markdown_df['MarkDown1'] >= 0]\n",
    "sales_with_markdown_df = sales_with_markdown_df[sales_with_markdown_df['MarkDown2'] >= 0]\n",
    "sales_with_markdown_df = sales_with_markdown_df[sales_with_markdown_df['MarkDown3'] >= 0]\n",
    "sales_with_markdown_df = sales_with_markdown_df[sales_with_markdown_df['MarkDown4'] >= 0]\n",
    "sales_with_markdown_df = sales_with_markdown_df[sales_with_markdown_df['MarkDown5'] >= 0]"
   ],
   "id": "a9549833feb53ede",
   "outputs": [],
   "execution_count": 96
  },
  {
   "metadata": {
    "ExecuteTime": {
     "end_time": "2025-02-16T22:07:03.707927Z",
     "start_time": "2025-02-16T22:07:03.658647Z"
    }
   },
   "cell_type": "code",
   "source": "sales_with_markdown_df.describe()",
   "id": "3b5d08dc9ced1965",
   "outputs": [
    {
     "data": {
      "text/plain": [
       "              Store          Dept                           Date  \\\n",
       "count  95741.000000  95741.000000                          95741   \n",
       "mean      20.242999     44.283713  2012-04-15 10:56:23.152463360   \n",
       "min        1.000000      1.000000            2011-11-11 00:00:00   \n",
       "25%       10.000000     19.000000            2012-01-20 00:00:00   \n",
       "50%       20.000000     37.000000            2012-03-30 00:00:00   \n",
       "75%       29.000000     72.000000            2012-07-20 00:00:00   \n",
       "max       45.000000     99.000000            2012-10-26 00:00:00   \n",
       "std       12.046304     30.121725                            NaN   \n",
       "\n",
       "        Weekly_Sales           Size   Temperature    Fuel_Price     MarkDown1  \\\n",
       "count   95741.000000   95741.000000  95741.000000  95741.000000  95741.000000   \n",
       "mean    17856.232998  155154.523600     57.159185      3.616314   8872.236794   \n",
       "min     -1699.000000   34875.000000      7.460000      3.031000     32.500000   \n",
       "25%      2763.020000  119557.000000     42.580000      3.413000   3597.080000   \n",
       "50%      8625.070000  155083.000000     57.650000      3.629000   6249.060000   \n",
       "75%     22747.060000  203742.000000     72.620000      3.819000  10418.790000   \n",
       "max    630999.190000  219622.000000     95.910000      4.301000  88646.760000   \n",
       "std     24736.086528   51191.768935     18.249012      0.279737   9311.082927   \n",
       "\n",
       "           MarkDown2      MarkDown3     MarkDown4      MarkDown5  \\\n",
       "count   95741.000000   95741.000000  95741.000000   95741.000000   \n",
       "mean     3744.171722    1841.076186   4053.269936    5331.574956   \n",
       "min         0.000000       0.000000      0.460000     170.640000   \n",
       "25%        50.470000       5.430000    605.880000    2402.570000   \n",
       "50%       201.000000      30.570000   1727.920000    3886.310000   \n",
       "75%      2578.640000     126.720000   4120.320000    6208.430000   \n",
       "max    104519.540000  141630.610000  67474.850000  108519.280000   \n",
       "std     10118.381257   11062.501598   7216.184647    6567.424749   \n",
       "\n",
       "                CPI  Unemployment  \n",
       "count  95741.000000  95741.000000  \n",
       "mean     224.154147      7.413634  \n",
       "min      216.721737      4.077000  \n",
       "25%      223.900677      6.392000  \n",
       "50%      225.229000      7.280000  \n",
       "75%      225.229000      8.256000  \n",
       "max      227.036936     12.890000  \n",
       "std        2.007743      1.706835  "
      ],
      "text/html": [
       "<div>\n",
       "<style scoped>\n",
       "    .dataframe tbody tr th:only-of-type {\n",
       "        vertical-align: middle;\n",
       "    }\n",
       "\n",
       "    .dataframe tbody tr th {\n",
       "        vertical-align: top;\n",
       "    }\n",
       "\n",
       "    .dataframe thead th {\n",
       "        text-align: right;\n",
       "    }\n",
       "</style>\n",
       "<table border=\"1\" class=\"dataframe\">\n",
       "  <thead>\n",
       "    <tr style=\"text-align: right;\">\n",
       "      <th></th>\n",
       "      <th>Store</th>\n",
       "      <th>Dept</th>\n",
       "      <th>Date</th>\n",
       "      <th>Weekly_Sales</th>\n",
       "      <th>Size</th>\n",
       "      <th>Temperature</th>\n",
       "      <th>Fuel_Price</th>\n",
       "      <th>MarkDown1</th>\n",
       "      <th>MarkDown2</th>\n",
       "      <th>MarkDown3</th>\n",
       "      <th>MarkDown4</th>\n",
       "      <th>MarkDown5</th>\n",
       "      <th>CPI</th>\n",
       "      <th>Unemployment</th>\n",
       "    </tr>\n",
       "  </thead>\n",
       "  <tbody>\n",
       "    <tr>\n",
       "      <th>count</th>\n",
       "      <td>95741.000000</td>\n",
       "      <td>95741.000000</td>\n",
       "      <td>95741</td>\n",
       "      <td>95741.000000</td>\n",
       "      <td>95741.000000</td>\n",
       "      <td>95741.000000</td>\n",
       "      <td>95741.000000</td>\n",
       "      <td>95741.000000</td>\n",
       "      <td>95741.000000</td>\n",
       "      <td>95741.000000</td>\n",
       "      <td>95741.000000</td>\n",
       "      <td>95741.000000</td>\n",
       "      <td>95741.000000</td>\n",
       "      <td>95741.000000</td>\n",
       "    </tr>\n",
       "    <tr>\n",
       "      <th>mean</th>\n",
       "      <td>20.242999</td>\n",
       "      <td>44.283713</td>\n",
       "      <td>2012-04-15 10:56:23.152463360</td>\n",
       "      <td>17856.232998</td>\n",
       "      <td>155154.523600</td>\n",
       "      <td>57.159185</td>\n",
       "      <td>3.616314</td>\n",
       "      <td>8872.236794</td>\n",
       "      <td>3744.171722</td>\n",
       "      <td>1841.076186</td>\n",
       "      <td>4053.269936</td>\n",
       "      <td>5331.574956</td>\n",
       "      <td>224.154147</td>\n",
       "      <td>7.413634</td>\n",
       "    </tr>\n",
       "    <tr>\n",
       "      <th>min</th>\n",
       "      <td>1.000000</td>\n",
       "      <td>1.000000</td>\n",
       "      <td>2011-11-11 00:00:00</td>\n",
       "      <td>-1699.000000</td>\n",
       "      <td>34875.000000</td>\n",
       "      <td>7.460000</td>\n",
       "      <td>3.031000</td>\n",
       "      <td>32.500000</td>\n",
       "      <td>0.000000</td>\n",
       "      <td>0.000000</td>\n",
       "      <td>0.460000</td>\n",
       "      <td>170.640000</td>\n",
       "      <td>216.721737</td>\n",
       "      <td>4.077000</td>\n",
       "    </tr>\n",
       "    <tr>\n",
       "      <th>25%</th>\n",
       "      <td>10.000000</td>\n",
       "      <td>19.000000</td>\n",
       "      <td>2012-01-20 00:00:00</td>\n",
       "      <td>2763.020000</td>\n",
       "      <td>119557.000000</td>\n",
       "      <td>42.580000</td>\n",
       "      <td>3.413000</td>\n",
       "      <td>3597.080000</td>\n",
       "      <td>50.470000</td>\n",
       "      <td>5.430000</td>\n",
       "      <td>605.880000</td>\n",
       "      <td>2402.570000</td>\n",
       "      <td>223.900677</td>\n",
       "      <td>6.392000</td>\n",
       "    </tr>\n",
       "    <tr>\n",
       "      <th>50%</th>\n",
       "      <td>20.000000</td>\n",
       "      <td>37.000000</td>\n",
       "      <td>2012-03-30 00:00:00</td>\n",
       "      <td>8625.070000</td>\n",
       "      <td>155083.000000</td>\n",
       "      <td>57.650000</td>\n",
       "      <td>3.629000</td>\n",
       "      <td>6249.060000</td>\n",
       "      <td>201.000000</td>\n",
       "      <td>30.570000</td>\n",
       "      <td>1727.920000</td>\n",
       "      <td>3886.310000</td>\n",
       "      <td>225.229000</td>\n",
       "      <td>7.280000</td>\n",
       "    </tr>\n",
       "    <tr>\n",
       "      <th>75%</th>\n",
       "      <td>29.000000</td>\n",
       "      <td>72.000000</td>\n",
       "      <td>2012-07-20 00:00:00</td>\n",
       "      <td>22747.060000</td>\n",
       "      <td>203742.000000</td>\n",
       "      <td>72.620000</td>\n",
       "      <td>3.819000</td>\n",
       "      <td>10418.790000</td>\n",
       "      <td>2578.640000</td>\n",
       "      <td>126.720000</td>\n",
       "      <td>4120.320000</td>\n",
       "      <td>6208.430000</td>\n",
       "      <td>225.229000</td>\n",
       "      <td>8.256000</td>\n",
       "    </tr>\n",
       "    <tr>\n",
       "      <th>max</th>\n",
       "      <td>45.000000</td>\n",
       "      <td>99.000000</td>\n",
       "      <td>2012-10-26 00:00:00</td>\n",
       "      <td>630999.190000</td>\n",
       "      <td>219622.000000</td>\n",
       "      <td>95.910000</td>\n",
       "      <td>4.301000</td>\n",
       "      <td>88646.760000</td>\n",
       "      <td>104519.540000</td>\n",
       "      <td>141630.610000</td>\n",
       "      <td>67474.850000</td>\n",
       "      <td>108519.280000</td>\n",
       "      <td>227.036936</td>\n",
       "      <td>12.890000</td>\n",
       "    </tr>\n",
       "    <tr>\n",
       "      <th>std</th>\n",
       "      <td>12.046304</td>\n",
       "      <td>30.121725</td>\n",
       "      <td>NaN</td>\n",
       "      <td>24736.086528</td>\n",
       "      <td>51191.768935</td>\n",
       "      <td>18.249012</td>\n",
       "      <td>0.279737</td>\n",
       "      <td>9311.082927</td>\n",
       "      <td>10118.381257</td>\n",
       "      <td>11062.501598</td>\n",
       "      <td>7216.184647</td>\n",
       "      <td>6567.424749</td>\n",
       "      <td>2.007743</td>\n",
       "      <td>1.706835</td>\n",
       "    </tr>\n",
       "  </tbody>\n",
       "</table>\n",
       "</div>"
      ]
     },
     "execution_count": 97,
     "metadata": {},
     "output_type": "execute_result"
    }
   ],
   "execution_count": 97
  },
  {
   "metadata": {
    "ExecuteTime": {
     "end_time": "2025-02-16T22:07:03.790601Z",
     "start_time": "2025-02-16T22:07:03.779288Z"
    }
   },
   "cell_type": "code",
   "source": "sales_with_markdown_df.info()   ",
   "id": "65570ff5ec31b77d",
   "outputs": [
    {
     "name": "stdout",
     "output_type": "stream",
     "text": [
      "<class 'pandas.core.frame.DataFrame'>\n",
      "Index: 95741 entries, 92 to 421569\n",
      "Data columns (total 19 columns):\n",
      " #   Column        Non-Null Count  Dtype         \n",
      "---  ------        --------------  -----         \n",
      " 0   Store         95741 non-null  int64         \n",
      " 1   Dept          95741 non-null  int64         \n",
      " 2   Date          95741 non-null  datetime64[ns]\n",
      " 3   Weekly_Sales  95741 non-null  float64       \n",
      " 4   IsHoliday_x   95741 non-null  bool          \n",
      " 5   Size          95741 non-null  int64         \n",
      " 6   Store_Type_A  95741 non-null  bool          \n",
      " 7   Store_Type_B  95741 non-null  bool          \n",
      " 8   Store_Type_C  95741 non-null  bool          \n",
      " 9   Temperature   95741 non-null  float64       \n",
      " 10  Fuel_Price    95741 non-null  float64       \n",
      " 11  MarkDown1     95741 non-null  float64       \n",
      " 12  MarkDown2     95741 non-null  float64       \n",
      " 13  MarkDown3     95741 non-null  float64       \n",
      " 14  MarkDown4     95741 non-null  float64       \n",
      " 15  MarkDown5     95741 non-null  float64       \n",
      " 16  CPI           95741 non-null  float64       \n",
      " 17  Unemployment  95741 non-null  float64       \n",
      " 18  IsHoliday_y   95741 non-null  bool          \n",
      "dtypes: bool(5), datetime64[ns](1), float64(10), int64(3)\n",
      "memory usage: 11.4 MB\n"
     ]
    }
   ],
   "execution_count": 98
  },
  {
   "metadata": {},
   "cell_type": "markdown",
   "source": "",
   "id": "c0134787777058e4"
  },
  {
   "metadata": {},
   "cell_type": "markdown",
   "source": [
    "### Sales pattern if any\n",
    " Let us find if there is any pattern observed on store sales over different time of the year . If we can find a pattern then we can do forecasting better. Inorder to do so  we will group by date the weekly sales figures and display the total and draw a line graph. We will then find the top 10 days of saales and correlate with the holidays and see if the sales go up or down during holidays and which are the more impactful holidays from sales perspective.\n",
    " \n",
    "We did observe as big spike of sales during Thanksgiving and Christmas. We also see a small spike during Easter and 4th of July week. "
   ],
   "id": "e48a6b77bfe3bf81"
  },
  {
   "metadata": {},
   "cell_type": "markdown",
   "source": "### Weekly aggregate Sales trend / graph",
   "id": "e0dcfa34897faf7"
  },
  {
   "metadata": {
    "ExecuteTime": {
     "end_time": "2025-02-16T22:07:04.207438Z",
     "start_time": "2025-02-16T22:07:03.868805Z"
    }
   },
   "cell_type": "code",
   "source": [
    "import matplotlib.pyplot as plt\n",
    "\n",
    "# find the total weekly sales and rest the index to the weekly date\n",
    "weekly_sales = final_df.groupby('Date')['Weekly_Sales'].sum().reset_index()\n",
    "\n",
    "# Convert Weekly_Sales to millions(1000000) else the figure is large an y axis was showing figures with 'e' instead of 10 to power6\n",
    "\n",
    "weekly_sales['Weekly_Sales'] = weekly_sales['Weekly_Sales'] / 1000000\n",
    "\n",
    "# create the plot  with Date in x axis and weekly sales data in Y axis\n",
    "plt.figure(figsize=(20, 12))\n",
    "plt.plot(weekly_sales['Date'], weekly_sales['Weekly_Sales'], marker='o')\n",
    "\n",
    "# top ten  Weekly_Sales values\n",
    "top_n_values = weekly_sales.nlargest(10, 'Weekly_Sales') # top n=10 values\n",
    "\n",
    "# annotate the top ten values\n",
    "\n",
    "for _, row in top_n_values.iterrows():\n",
    "    plt.annotate(f\"{row['Date'].date()}\", \n",
    "                 (row['Date'], row['Weekly_Sales'])) \n",
    "\n",
    "plt.xlabel('Date', fontsize=15)\n",
    "plt.ylabel('Total Weekly Sales (in millions)', fontsize=15)\n",
    "plt.title('Walmart Total Weekly Sales (in millions)', fontsize=20)\n",
    "plt.grid(True)\n",
    "plt.show()"
   ],
   "id": "85f3b15f86d801cd",
   "outputs": [
    {
     "data": {
      "text/plain": [
       "<Figure size 2000x1200 with 1 Axes>"
      ],
      "image/png": "[encoded data removed]"
     },
     "metadata": {},
     "output_type": "display_data"
    }
   ],
   "execution_count": 99
  },
  {
   "metadata": {
    "ExecuteTime": {
     "end_time": "2025-02-16T22:07:04.235882Z",
     "start_time": "2025-02-16T22:07:04.228628Z"
    }
   },
   "cell_type": "code",
   "source": "top_n_values",
   "id": "f5885ca3e14ad207",
   "outputs": [
    {
     "data": {
      "text/plain": [
       "          Date  Weekly_Sales\n",
       "46  2010-12-24     80.931416\n",
       "98  2011-12-23     76.998241\n",
       "94  2011-11-25     66.593605\n",
       "42  2010-11-26     65.821003\n",
       "45  2010-12-17     61.820800\n",
       "97  2011-12-16     60.085696\n",
       "44  2010-12-10     55.666770\n",
       "96  2011-12-09     55.561148\n",
       "113 2012-04-06     53.502316\n",
       "126 2012-07-06     51.253022"
      ],
      "text/html": [
       "<div>\n",
       "<style scoped>\n",
       "    .dataframe tbody tr th:only-of-type {\n",
       "        vertical-align: middle;\n",
       "    }\n",
       "\n",
       "    .dataframe tbody tr th {\n",
       "        vertical-align: top;\n",
       "    }\n",
       "\n",
       "    .dataframe thead th {\n",
       "        text-align: right;\n",
       "    }\n",
       "</style>\n",
       "<table border=\"1\" class=\"dataframe\">\n",
       "  <thead>\n",
       "    <tr style=\"text-align: right;\">\n",
       "      <th></th>\n",
       "      <th>Date</th>\n",
       "      <th>Weekly_Sales</th>\n",
       "    </tr>\n",
       "  </thead>\n",
       "  <tbody>\n",
       "    <tr>\n",
       "      <th>46</th>\n",
       "      <td>2010-12-24</td>\n",
       "      <td>80.931416</td>\n",
       "    </tr>\n",
       "    <tr>\n",
       "      <th>98</th>\n",
       "      <td>2011-12-23</td>\n",
       "      <td>76.998241</td>\n",
       "    </tr>\n",
       "    <tr>\n",
       "      <th>94</th>\n",
       "      <td>2011-11-25</td>\n",
       "      <td>66.593605</td>\n",
       "    </tr>\n",
       "    <tr>\n",
       "      <th>42</th>\n",
       "      <td>2010-11-26</td>\n",
       "      <td>65.821003</td>\n",
       "    </tr>\n",
       "    <tr>\n",
       "      <th>45</th>\n",
       "      <td>2010-12-17</td>\n",
       "      <td>61.820800</td>\n",
       "    </tr>\n",
       "    <tr>\n",
       "      <th>97</th>\n",
       "      <td>2011-12-16</td>\n",
       "      <td>60.085696</td>\n",
       "    </tr>\n",
       "    <tr>\n",
       "      <th>44</th>\n",
       "      <td>2010-12-10</td>\n",
       "      <td>55.666770</td>\n",
       "    </tr>\n",
       "    <tr>\n",
       "      <th>96</th>\n",
       "      <td>2011-12-09</td>\n",
       "      <td>55.561148</td>\n",
       "    </tr>\n",
       "    <tr>\n",
       "      <th>113</th>\n",
       "      <td>2012-04-06</td>\n",
       "      <td>53.502316</td>\n",
       "    </tr>\n",
       "    <tr>\n",
       "      <th>126</th>\n",
       "      <td>2012-07-06</td>\n",
       "      <td>51.253022</td>\n",
       "    </tr>\n",
       "  </tbody>\n",
       "</table>\n",
       "</div>"
      ]
     },
     "execution_count": 100,
     "metadata": {},
     "output_type": "execute_result"
    }
   ],
   "execution_count": 100
  },
  {
   "metadata": {},
   "cell_type": "markdown",
   "source": "#### So we see that the Top ten sales dates re holiday shopping for Thanksgiving and Christmas. There is a bit of spike in the week near Easter as well as 4th of July week. So it looks like there were deals going on. We can also see a pattern of the sales which tells we can do good forecasting with this data",
   "id": "cca7798f5b73df0a"
  },
  {
   "metadata": {},
   "cell_type": "markdown",
   "source": [
    "\n",
    "### Conclusions:\n",
    "\n",
    "- As we can see the data is totally usable, we had to clean the data as needed \n",
    "\n",
    "- We needed to modify data types, do one hot coding as needed. One of the column we kept the data without onehot coding as it will increase the number of columns by more than 120 and that will be difficult to manage. When we want to do model training for specific problem we will do the one hot coding as needed (say we do sales analysis by department or sales analysis by store ID to find better performing store than others)otherwise for normal store sales forecasting if we can prove there is a pattern then we cna build model to forecast.\n",
    "\n",
    "    In this case as shown above there is a pattern when sales are going up during the holidays \n",
    "\n",
    "- In this dataset we did notice class imbalance due to missing data of Markdown, and to circumvent \n",
    " we did notice class imbalance due to lack of markdown data and thus decided to create a seprate data frame which we can use for sales impact analysis due to markdown."
   ],
   "id": "b17cadee3cec0daa"
  },
  {
   "metadata": {},
   "cell_type": "markdown",
   "source": "",
   "id": "e4ba1c910e0df9c7"
  },
  {
   "cell_type": "markdown",
   "id": "abab9e6d-18cc-4863-b980-3e52f581763a",
   "metadata": {},
   "source": [
    "# 4. Storytelling With Data graph"
   ]
  },
  {
   "cell_type": "markdown",
   "id": "1911148d-9df6-4b33-a875-8c96408ec834",
   "metadata": {},
   "source": [
    "Just like last week: choose any graph in the Introduction of Storytelling With Data. Use matplotlib to reproduce it in a rough way. I don't expect you to spend an enormous amount of time on this; I understand that you likely will not have time to re-create every feature of the graph. However, if you're excited about learning to use matplotlib, this is a good way to do that. You don't have to duplicate the exact values on the graph; just the same rough shape will be enough.  If you don't feel comfortable using matplotlib yet, do the best you can and write down what you tried or what Google searches you did to find the answers."
   ]
  },
  {
   "metadata": {
    "ExecuteTime": {
     "end_time": "2025-02-16T22:07:04.288157Z",
     "start_time": "2025-02-16T22:07:04.281052Z"
    }
   },
   "cell_type": "code",
   "source": "top_n_values",
   "id": "8c9ef2a4394bd060",
   "outputs": [
    {
     "data": {
      "text/plain": [
       "          Date  Weekly_Sales\n",
       "46  2010-12-24     80.931416\n",
       "98  2011-12-23     76.998241\n",
       "94  2011-11-25     66.593605\n",
       "42  2010-11-26     65.821003\n",
       "45  2010-12-17     61.820800\n",
       "97  2011-12-16     60.085696\n",
       "44  2010-12-10     55.666770\n",
       "96  2011-12-09     55.561148\n",
       "113 2012-04-06     53.502316\n",
       "126 2012-07-06     51.253022"
      ],
      "text/html": [
       "<div>\n",
       "<style scoped>\n",
       "    .dataframe tbody tr th:only-of-type {\n",
       "        vertical-align: middle;\n",
       "    }\n",
       "\n",
       "    .dataframe tbody tr th {\n",
       "        vertical-align: top;\n",
       "    }\n",
       "\n",
       "    .dataframe thead th {\n",
       "        text-align: right;\n",
       "    }\n",
       "</style>\n",
       "<table border=\"1\" class=\"dataframe\">\n",
       "  <thead>\n",
       "    <tr style=\"text-align: right;\">\n",
       "      <th></th>\n",
       "      <th>Date</th>\n",
       "      <th>Weekly_Sales</th>\n",
       "    </tr>\n",
       "  </thead>\n",
       "  <tbody>\n",
       "    <tr>\n",
       "      <th>46</th>\n",
       "      <td>2010-12-24</td>\n",
       "      <td>80.931416</td>\n",
       "    </tr>\n",
       "    <tr>\n",
       "      <th>98</th>\n",
       "      <td>2011-12-23</td>\n",
       "      <td>76.998241</td>\n",
       "    </tr>\n",
       "    <tr>\n",
       "      <th>94</th>\n",
       "      <td>2011-11-25</td>\n",
       "      <td>66.593605</td>\n",
       "    </tr>\n",
       "    <tr>\n",
       "      <th>42</th>\n",
       "      <td>2010-11-26</td>\n",
       "      <td>65.821003</td>\n",
       "    </tr>\n",
       "    <tr>\n",
       "      <th>45</th>\n",
       "      <td>2010-12-17</td>\n",
       "      <td>61.820800</td>\n",
       "    </tr>\n",
       "    <tr>\n",
       "      <th>97</th>\n",
       "      <td>2011-12-16</td>\n",
       "      <td>60.085696</td>\n",
       "    </tr>\n",
       "    <tr>\n",
       "      <th>44</th>\n",
       "      <td>2010-12-10</td>\n",
       "      <td>55.666770</td>\n",
       "    </tr>\n",
       "    <tr>\n",
       "      <th>96</th>\n",
       "      <td>2011-12-09</td>\n",
       "      <td>55.561148</td>\n",
       "    </tr>\n",
       "    <tr>\n",
       "      <th>113</th>\n",
       "      <td>2012-04-06</td>\n",
       "      <td>53.502316</td>\n",
       "    </tr>\n",
       "    <tr>\n",
       "      <th>126</th>\n",
       "      <td>2012-07-06</td>\n",
       "      <td>51.253022</td>\n",
       "    </tr>\n",
       "  </tbody>\n",
       "</table>\n",
       "</div>"
      ]
     },
     "execution_count": 101,
     "metadata": {},
     "output_type": "execute_result"
    }
   ],
   "execution_count": 101
  },
  {
   "metadata": {},
   "cell_type": "markdown",
   "source": "",
   "id": "79599c1f0f228f05"
  },
  {
   "metadata": {},
   "cell_type": "markdown",
   "source": " ## Below is plot of a graph to replicate the line chart for non profit support  that was used in the book \"Storytelling with Data\" introduction section",
   "id": "4c8b1755f8dbc640"
  },
  {
   "metadata": {
    "ExecuteTime": {
     "end_time": "2025-02-16T22:07:04.518503Z",
     "start_time": "2025-02-16T22:07:04.405759Z"
    }
   },
   "cell_type": "code",
   "source": [
    "import pandas as pd\n",
    "import matplotlib.pyplot as plt\n",
    "from matplotlib import ticker\n",
    "\n",
    "\n",
    "# Data\n",
    "data_columns = {\n",
    "    \"Health\": [70, 65, 62, 68, 70, 80],\n",
    "    \"Education\": [72, 60, 70, 76, 64, 65],\n",
    "    \"Arts & Culture\": [20, 27, 29, 22, 33, 40],\n",
    "    \"Human services\": [60, 75, 70, 55, 65, 60],\n",
    "    'Others': [50, 60, 45, 38, 22, 30]\n",
    "}\n",
    "years = [2010, 2011, 2012, 2013, 2014, 2015]\n",
    "\n",
    "# lets Create DataFrame\n",
    "df_non_profit_support = pd.DataFrame(data_columns, index=years)\n",
    "df_non_profit_support\n",
    "\n",
    "plt.figure(figsize=(10, 6))\n",
    "df_non_profit_support.plot(kind='line')\n",
    "#looked into matplotlib on how to manage the y axis to show percentage\n",
    "#look into matplotlib percent formatter https://matplotlib.org/stable/api/ticker_api.html#matplotlib.ticker.PercentFormatter\n",
    "#saw other options which looked more complicated like funcformater  which I will try later\n",
    "plt.gca().yaxis.set_major_formatter(ticker.PercentFormatter(xmax=100)) #Since the data was already in percentage so put xmax=100 this is for scaling\n",
    "\n",
    "plt.title('Non-Profit Support')\n",
    "plt.grid(True)\n",
    "plt.legend(title='Non Profit categories', loc='center left', bbox_to_anchor=(1, 0.5))  # Place legend outside the plot\n",
    "plt.xlim(left=2010)  # Set x-axis origin to 2010\n",
    "plt.yticks(ticks=range(0, 101, 10))  # Set y-axis ticks in units of 10%\n",
    "plt.show()"
   ],
   "id": "ea17a3f357981bc9",
   "outputs": [
    {
     "data": {
      "text/plain": [
       "<Figure size 1000x600 with 0 Axes>"
      ]
     },
     "metadata": {},
     "output_type": "display_data"
    },
    {
     "data": {
      "text/plain": [
       "<Figure size 640x480 with 1 Axes>"
      ],
      "image/png": "[encoded data removed]"
     },
     "metadata": {},
     "output_type": "display_data"
    }
   ],
   "execution_count": 102
  },
  {
   "metadata": {
    "ExecuteTime": {
     "end_time": "2025-02-16T22:07:04.552367Z",
     "start_time": "2025-02-16T22:07:04.549686Z"
    }
   },
   "cell_type": "code",
   "source": "",
   "id": "6ccd6860a52db482",
   "outputs": [],
   "execution_count": null
  }
 ],
 "metadata": {
  "kernelspec": {
   "display_name": "Python 3 (ipykernel)",
   "language": "python",
   "name": "python3"
  },
  "language_info": {
   "codemirror_mode": {
    "name": "ipython",
    "version": 3
   },
   "file_extension": ".py",
   "mimetype": "text/x-python",
   "name": "python",
   "nbconvert_exporter": "python",
   "pygments_lexer": "ipython3",
   "version": "3.12.0"
  }
 },
 "nbformat": 4,
 "nbformat_minor": 5
}
